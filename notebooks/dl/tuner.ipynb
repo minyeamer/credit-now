{
 "cells": [
  {
   "cell_type": "markdown",
   "metadata": {},
   "source": [
    "# Keras Tuner"
   ]
  },
  {
   "cell_type": "code",
   "execution_count": 1,
   "metadata": {},
   "outputs": [],
   "source": [
    "import os\n",
    "root_dir = '../../' if os.getcwd().split('/')[-1] != 'credit-now' else './'\n",
    "os.chdir(root_dir)\n",
    "os.environ['TF_CPP_MIN_LOG_LEVEL'] = '2'\n",
    "\n",
    "import numpy as np\n",
    "import pandas as pd\n",
    "import matplotlib.pyplot as plt\n",
    "\n",
    "import tensorflow as tf\n",
    "from tensorflow.keras import models, layers, utils\n",
    "from tensorflow.keras.optimizers import Adam\n",
    "from tensorflow.keras.initializers import he_uniform\n",
    "import keras_tuner as kt\n",
    "\n",
    "import credit_data\n",
    "import visualkeras\n",
    "from joblib import dump, load"
   ]
  },
  {
   "cell_type": "code",
   "execution_count": 2,
   "metadata": {},
   "outputs": [
    {
     "name": "stdout",
     "output_type": "stream",
     "text": [
      "(15906, 67) (6818, 67) (15906, 3) (6818, 3)\n"
     ]
    }
   ],
   "source": [
    "train_data, test_data, train_label, test_label = credit_data.load_data()\n",
    "\n",
    "train_data = train_data.todense()\n",
    "test_data = test_data.todense()\n",
    "train_label = utils.to_categorical(train_label)\n",
    "test_label = utils.to_categorical(test_label)\n",
    "\n",
    "print(train_data.shape, test_data.shape, train_label.shape, test_label.shape)"
   ]
  },
  {
   "cell_type": "code",
   "execution_count": 3,
   "metadata": {
    "id": "b2M1Op-Hb7uI"
   },
   "outputs": [],
   "source": [
    "def build_hyper_model(hp):\n",
    "    model = models.Sequential()\n",
    "\n",
    "    hp_units = hp.Int('units_input', min_value=32, max_value=512, step=32)\n",
    "    hp_activations = hp.Choice('activation_input', values=['relu', 'elu'])\n",
    "    model.add(layers.Dense(input_dim=67, units=hp_units, activation=hp_activations, kernel_initializer=he_uniform()))\n",
    "    model.add(layers.BatchNormalization())\n",
    "\n",
    "    for layer_num in range(hp.Int('num_layers', min_value=1, max_value=5)):\n",
    "        hp_units = hp.Int('units_' + str(layer_num), min_value=32, max_value=512, step=32)\n",
    "        hp_activations = hp.Choice('activation_' + str(layer_num), values=['relu', 'elu'])\n",
    "        model.add(layers.Dense(hp_units, activation=hp_activations, kernel_initializer=he_uniform()))\n",
    "        hp_dropouts = hp.Float('dropout_' + str(layer_num), 0.0, 0.5, step=0.1)\n",
    "        model.add(layers.Dropout(hp_dropouts))\n",
    "        model.add(layers.BatchNormalization())\n",
    "    model.add(layers.Dense(units=3, activation='softmax'))\n",
    "\n",
    "    hp_learning_rate = hp.Choice('learning_rate', values = [1e-2, 1e-3, 1e-4]) \n",
    "    model.compile(optimizer=Adam(hp_learning_rate),\n",
    "                loss='categorical_crossentropy',\n",
    "                metrics=['accuracy'])\n",
    "\n",
    "    return model"
   ]
  },
  {
   "cell_type": "code",
   "execution_count": 4,
   "metadata": {
    "colab": {
     "base_uri": "https://localhost:8080/"
    },
    "id": "7uYthW2b6fiP",
    "outputId": "164fb118-ee7c-4925-b136-9b7e093b2b7b"
   },
   "outputs": [
    {
     "name": "stdout",
     "output_type": "stream",
     "text": [
      "INFO:tensorflow:Reloading Oracle from existing project keras_tuner/bayes_depth5/oracle.json\n",
      "Metal device set to: Apple M1\n",
      "\n",
      "systemMemory: 8.00 GB\n",
      "maxCacheSize: 2.67 GB\n",
      "\n",
      "INFO:tensorflow:Reloading Tuner from keras_tuner/bayes_depth5/tuner0.json\n"
     ]
    }
   ],
   "source": [
    "tuner = kt.BayesianOptimization(build_hyper_model,\n",
    "                                objective = 'val_accuracy',\n",
    "                                max_trials = 100,\n",
    "                                directory = 'keras_tuner',\n",
    "                                project_name = 'bayes_depth5')\n",
    "\n",
    "# tuner.search_space_summary()"
   ]
  },
  {
   "cell_type": "code",
   "execution_count": 5,
   "metadata": {
    "colab": {
     "base_uri": "https://localhost:8080/"
    },
    "id": "xXSCIHWE6j_2",
    "outputId": "c20d6898-0221-4346-a420-84b7023e552f"
   },
   "outputs": [
    {
     "name": "stdout",
     "output_type": "stream",
     "text": [
      "Trial 100 Complete [00h 01m 14s]\n",
      "val_accuracy: 0.6887650489807129\n",
      "\n",
      "Best val_accuracy So Far: 0.6921384930610657\n",
      "Total elapsed time: 00h 22m 01s\n",
      "INFO:tensorflow:Oracle triggered exit\n"
     ]
    }
   ],
   "source": [
    "tuner.search(train_data, train_label, batch_size=100, epochs=10, validation_data=(test_data, test_label))"
   ]
  },
  {
   "cell_type": "code",
   "execution_count": null,
   "metadata": {
    "colab": {
     "base_uri": "https://localhost:8080/"
    },
    "id": "YDlJzL14GVXR",
    "outputId": "bc282bbd-e3cb-4178-ab01-64a2d89e2f83"
   },
   "outputs": [],
   "source": [
    "tuner.results_summary(num_trials=3)"
   ]
  },
  {
   "cell_type": "code",
   "execution_count": 7,
   "metadata": {
    "colab": {
     "base_uri": "https://localhost:8080/"
    },
    "id": "XFbk0Bvo36HR",
    "outputId": "9f835481-18d7-4967-92b5-c217e76daedd"
   },
   "outputs": [
    {
     "name": "stdout",
     "output_type": "stream",
     "text": [
      "Model performance rank : 0\n",
      "{'units_input': 512, 'activation_input': 'elu', 'num_layers': 1, 'units_0': 480, 'activation_0': 'elu', 'dropout_0': 0.5, 'learning_rate': 0.01, 'units_1': 512, 'activation_1': 'elu', 'dropout_1': 0.4, 'units_2': 512, 'activation_2': 'elu', 'dropout_2': 0.1, 'units_3': 32, 'activation_3': 'relu', 'dropout_3': 0.5, 'units_4': 320, 'activation_4': 'relu', 'dropout_4': 0.0}\n",
      "\n",
      "Model performance rank : 1\n",
      "{'units_input': 512, 'activation_input': 'elu', 'num_layers': 1, 'units_0': 512, 'activation_0': 'elu', 'dropout_0': 0.5, 'learning_rate': 0.01, 'units_1': 512, 'activation_1': 'elu', 'dropout_1': 0.5, 'units_2': 512, 'activation_2': 'elu', 'dropout_2': 0.2, 'units_3': 32, 'activation_3': 'relu', 'dropout_3': 0.5, 'units_4': 352, 'activation_4': 'relu', 'dropout_4': 0.0}\n",
      "\n",
      "Model performance rank : 2\n",
      "{'units_input': 512, 'activation_input': 'elu', 'num_layers': 5, 'units_0': 512, 'activation_0': 'elu', 'dropout_0': 0.5, 'learning_rate': 0.01, 'units_1': 512, 'activation_1': 'elu', 'dropout_1': 0.5, 'units_2': 512, 'activation_2': 'elu', 'dropout_2': 0.0, 'units_3': 32, 'activation_3': 'elu', 'dropout_3': 0.30000000000000004, 'units_4': 96, 'activation_4': 'relu', 'dropout_4': 0.0}\n",
      "\n",
      "\n",
      "The hyperparameter search is complete. \n",
      "* Optimal # of layers : 1\n",
      "* Optimal value of the learning-rate : 0.01\n",
      "Layer 0 - # of Perceptrons : 480\n",
      "Layer 0 - Applied activation function : elu\n"
     ]
    }
   ],
   "source": [
    "top3_models = tuner.get_best_hyperparameters(num_trials=3)\n",
    "# print(tuner.get_best_hyperparameters(num_trials=3)[0].space)\n",
    "# print(tuner.get_best_hyperparameters(num_trials=3)[0].values)\n",
    "\n",
    "for idx, model in enumerate(top3_models):\n",
    "    print('Model performance rank :', idx)\n",
    "    print(model.values)\n",
    "    print()\n",
    "\n",
    "best_hps = top3_models[0]\n",
    "\n",
    "print(\"\"\"\n",
    "The hyperparameter search is complete. \n",
    "* Optimal # of layers : {}\n",
    "* Optimal value of the learning-rate : {}\"\"\".format(best_hps.get('num_layers'), best_hps.get('learning_rate')))\n",
    "\n",
    "for layer_num in range(best_hps.get('num_layers')):\n",
    "    print('Layer {} - # of Perceptrons :'.format(layer_num), best_hps.get('units_' + str(layer_num)))\n",
    "    print('Layer {} - Applied activation function :'.format(layer_num), best_hps.get('activation_' + str(layer_num)))"
   ]
  },
  {
   "cell_type": "code",
   "execution_count": 8,
   "metadata": {
    "colab": {
     "base_uri": "https://localhost:8080/"
    },
    "id": "oO2QFJn0L7z_",
    "outputId": "a90701e0-f12c-41b0-ac7f-35355e5f7f2a"
   },
   "outputs": [
    {
     "name": "stdout",
     "output_type": "stream",
     "text": [
      "Model: \"sequential\"\n",
      "_________________________________________________________________\n",
      " Layer (type)                Output Shape              Param #   \n",
      "=================================================================\n",
      " dense (Dense)               (None, 512)               34816     \n",
      "                                                                 \n",
      " batch_normalization (BatchN  (None, 512)              2048      \n",
      " ormalization)                                                   \n",
      "                                                                 \n",
      " dense_1 (Dense)             (None, 480)               246240    \n",
      "                                                                 \n",
      " dropout (Dropout)           (None, 480)               0         \n",
      "                                                                 \n",
      " batch_normalization_1 (Batc  (None, 480)              1920      \n",
      " hNormalization)                                                 \n",
      "                                                                 \n",
      " dense_2 (Dense)             (None, 3)                 1443      \n",
      "                                                                 \n",
      "=================================================================\n",
      "Total params: 286,467\n",
      "Trainable params: 284,483\n",
      "Non-trainable params: 1,984\n",
      "_________________________________________________________________\n",
      "\n",
      "214/214 [==============================] - 5s 21ms/step - loss: 0.8151 - accuracy: 0.6921\n",
      "Cross-entropy : 0.8150773644447327\n",
      "Accuracy : 0.6921384930610657\n"
     ]
    }
   ],
   "source": [
    "top_models = tuner.get_best_models(num_models=3)\n",
    "top_model = top_models[0]\n",
    "top_model.summary()\n",
    "print()\n",
    "\n",
    "results = top_model.evaluate(test_data, test_label)\n",
    "print('Cross-entropy :', results[0])\n",
    "print('Accuracy :', results[1])"
   ]
  },
  {
   "cell_type": "code",
   "execution_count": 9,
   "metadata": {},
   "outputs": [
    {
     "data": {
      "image/png": "[encoded data removed]",
      "text/plain": [
       "<PIL.Image.Image image mode=RGBA size=344x63>"
      ]
     },
     "execution_count": 9,
     "metadata": {},
     "output_type": "execute_result"
    }
   ],
   "source": [
    "visualkeras.layered_view(top_model, legend=True)"
   ]
  },
  {
   "cell_type": "code",
   "execution_count": null,
   "metadata": {},
   "outputs": [],
   "source": [
    "top_model.save('models/model_bayes5.h5')\n",
    "dump(best_hps, 'models/params_bayes5.pkl')"
   ]
  },
  {
   "cell_type": "code",
   "execution_count": 19,
   "metadata": {
    "colab": {
     "base_uri": "https://localhost:8080/"
    },
    "id": "3j5xYX3dOHqV",
    "outputId": "ab3c7d96-0ae8-41e7-f6f7-0eb96014f5fb"
   },
   "outputs": [
    {
     "name": "stdout",
     "output_type": "stream",
     "text": [
      "Epoch 1/10\n",
      "160/160 [==============================] - 6s 30ms/step - loss: 1.0274 - accuracy: 0.5939 - val_loss: 1.0029 - val_accuracy: 0.5581\n",
      "Epoch 2/10\n",
      "160/160 [==============================] - 4s 23ms/step - loss: 0.9212 - accuracy: 0.6323 - val_loss: 0.8697 - val_accuracy: 0.6662\n",
      "Epoch 3/10\n",
      "160/160 [==============================] - 4s 25ms/step - loss: 0.8768 - accuracy: 0.6590 - val_loss: 0.8448 - val_accuracy: 0.6740\n",
      "Epoch 4/10\n",
      "160/160 [==============================] - 4s 23ms/step - loss: 0.8499 - accuracy: 0.6745 - val_loss: 0.8202 - val_accuracy: 0.6867\n",
      "Epoch 5/10\n",
      "160/160 [==============================] - 4s 23ms/step - loss: 0.8327 - accuracy: 0.6818 - val_loss: 0.8312 - val_accuracy: 0.6776\n",
      "Epoch 6/10\n",
      "160/160 [==============================] - 3s 21ms/step - loss: 0.8271 - accuracy: 0.6814 - val_loss: 0.8237 - val_accuracy: 0.6836\n",
      "Epoch 7/10\n",
      "160/160 [==============================] - 4s 26ms/step - loss: 0.8213 - accuracy: 0.6854 - val_loss: 0.8226 - val_accuracy: 0.6880\n",
      "Epoch 8/10\n",
      "160/160 [==============================] - 4s 22ms/step - loss: 0.8176 - accuracy: 0.6862 - val_loss: 0.8096 - val_accuracy: 0.6879\n",
      "Epoch 9/10\n",
      "160/160 [==============================] - 4s 27ms/step - loss: 0.8132 - accuracy: 0.6875 - val_loss: 0.8383 - val_accuracy: 0.6826\n",
      "Epoch 10/10\n",
      "160/160 [==============================] - 4s 24ms/step - loss: 0.8138 - accuracy: 0.6861 - val_loss: 0.8064 - val_accuracy: 0.6869\n",
      "214/214 [==============================] - 2s 10ms/step - loss: 0.8064 - accuracy: 0.6869\n",
      "Cross-entropy : 0.8064232468605042\n",
      "Accuracy : 0.6868583559989929\n"
     ]
    }
   ],
   "source": [
    "best_hps = load('models/params_bayes5.pkl')\n",
    "\n",
    "model = tuner.hypermodel.build(best_hps)\n",
    "model.fit(train_data, train_label, batch_size=100, epochs=10, validation_data=(test_data, test_label))\n",
    "\n",
    "results = model.evaluate(test_data, test_label)\n",
    "print('Cross-entropy :', results[0])\n",
    "print('Accuracy :', results[1])"
   ]
  },
  {
   "cell_type": "markdown",
   "metadata": {
    "id": "xtqkwnj_ncpy"
   },
   "source": [
    "## Max Depth 20"
   ]
  },
  {
   "cell_type": "code",
   "execution_count": 24,
   "metadata": {},
   "outputs": [
    {
     "name": "stdout",
     "output_type": "stream",
     "text": [
      "(15906, 67) (6818, 67) (15906, 3) (6818, 3)\n"
     ]
    }
   ],
   "source": [
    "train_data, test_data, train_label, test_label = credit_data.load_data()\n",
    "\n",
    "train_data = train_data.todense()\n",
    "test_data = test_data.todense()\n",
    "train_label = utils.to_categorical(train_label)\n",
    "test_label = utils.to_categorical(test_label)\n",
    "\n",
    "print(train_data.shape, test_data.shape, train_label.shape, test_label.shape)"
   ]
  },
  {
   "cell_type": "code",
   "execution_count": 25,
   "metadata": {
    "id": "b2M1Op-Hb7uI"
   },
   "outputs": [],
   "source": [
    "def build_hyper_model(hp):\n",
    "    model = models.Sequential()\n",
    "\n",
    "    hp_units = hp.Int('units_input', min_value=32, max_value=512, step=32)\n",
    "    hp_activations = hp.Choice('activation_input', values=['relu', 'elu'])\n",
    "    model.add(layers.Dense(input_dim=67, units=hp_units, activation=hp_activations, kernel_initializer=he_uniform()))\n",
    "    model.add(layers.BatchNormalization())\n",
    "\n",
    "    for layer_num in range(hp.Int('num_layers', min_value=5, max_value=20)):\n",
    "        hp_units = hp.Int('units_' + str(layer_num), min_value=32, max_value=512, step=32)\n",
    "        hp_activations = hp.Choice('activation_' + str(layer_num), values=['relu', 'elu'])\n",
    "        model.add(layers.Dense(hp_units, activation=hp_activations, kernel_initializer=he_uniform()))\n",
    "        hp_dropouts = hp.Float('dropout_' + str(layer_num), 0.0, 0.5, step=0.1)\n",
    "        model.add(layers.Dropout(hp_dropouts))\n",
    "        model.add(layers.BatchNormalization())\n",
    "    model.add(layers.Dense(units=3, activation='softmax'))\n",
    "\n",
    "    hp_learning_rate = hp.Choice('learning_rate', values = [1e-2, 1e-3, 1e-4]) \n",
    "    model.compile(optimizer=Adam(hp_learning_rate),\n",
    "                loss='categorical_crossentropy',\n",
    "                metrics=['accuracy'])\n",
    "\n",
    "    return model"
   ]
  },
  {
   "cell_type": "code",
   "execution_count": 26,
   "metadata": {
    "colab": {
     "base_uri": "https://localhost:8080/"
    },
    "id": "7uYthW2b6fiP",
    "outputId": "164fb118-ee7c-4925-b136-9b7e093b2b7b"
   },
   "outputs": [
    {
     "name": "stdout",
     "output_type": "stream",
     "text": [
      "INFO:tensorflow:Reloading Oracle from existing project keras_tuner/model_hyper_deep/oracle.json\n"
     ]
    }
   ],
   "source": [
    "tuner = kt.BayesianOptimization(build_hyper_model,\n",
    "                                objective = 'val_accuracy',\n",
    "                                max_trials = 100,\n",
    "                                directory = 'keras_tuner',\n",
    "                                project_name = 'bayes_depth20')\n",
    "\n",
    "# tuner.search_space_summary()"
   ]
  },
  {
   "cell_type": "code",
   "execution_count": 27,
   "metadata": {
    "colab": {
     "base_uri": "https://localhost:8080/"
    },
    "id": "xXSCIHWE6j_2",
    "outputId": "c20d6898-0221-4346-a420-84b7023e552f"
   },
   "outputs": [
    {
     "name": "stdout",
     "output_type": "stream",
     "text": [
      "Trial 100 Complete [00h 01m 09s]\n",
      "val_accuracy: 0.6902318000793457\n",
      "\n",
      "Best val_accuracy So Far: 0.691845178604126\n",
      "Total elapsed time: 05h 43m 50s\n",
      "INFO:tensorflow:Oracle triggered exit\n"
     ]
    }
   ],
   "source": [
    "tuner.search(train_data, train_label, batch_size=100, epochs=10, validation_data=(test_data, test_label))"
   ]
  },
  {
   "cell_type": "code",
   "execution_count": 30,
   "metadata": {
    "colab": {
     "base_uri": "https://localhost:8080/"
    },
    "id": "oO2QFJn0L7z_",
    "outputId": "a90701e0-f12c-41b0-ac7f-35355e5f7f2a"
   },
   "outputs": [
    {
     "name": "stdout",
     "output_type": "stream",
     "text": [
      "Model: \"sequential\"\n",
      "_________________________________________________________________\n",
      " Layer (type)                Output Shape              Param #   \n",
      "=================================================================\n",
      " dense (Dense)               (None, 512)               34816     \n",
      "                                                                 \n",
      " batch_normalization (BatchN  (None, 512)              2048      \n",
      " ormalization)                                                   \n",
      "                                                                 \n",
      " dense_1 (Dense)             (None, 512)               262656    \n",
      "                                                                 \n",
      " dropout (Dropout)           (None, 512)               0         \n",
      "                                                                 \n",
      " batch_normalization_1 (Batc  (None, 512)              2048      \n",
      " hNormalization)                                                 \n",
      "                                                                 \n",
      " dense_2 (Dense)             (None, 32)                16416     \n",
      "                                                                 \n",
      " dropout_1 (Dropout)         (None, 32)                0         \n",
      "                                                                 \n",
      " batch_normalization_2 (Batc  (None, 32)               128       \n",
      " hNormalization)                                                 \n",
      "                                                                 \n",
      " dense_3 (Dense)             (None, 512)               16896     \n",
      "                                                                 \n",
      " dropout_2 (Dropout)         (None, 512)               0         \n",
      "                                                                 \n",
      " batch_normalization_3 (Batc  (None, 512)              2048      \n",
      " hNormalization)                                                 \n",
      "                                                                 \n",
      " dense_4 (Dense)             (None, 480)               246240    \n",
      "                                                                 \n",
      " dropout_3 (Dropout)         (None, 480)               0         \n",
      "                                                                 \n",
      " batch_normalization_4 (Batc  (None, 480)              1920      \n",
      " hNormalization)                                                 \n",
      "                                                                 \n",
      " dense_5 (Dense)             (None, 352)               169312    \n",
      "                                                                 \n",
      " dropout_4 (Dropout)         (None, 352)               0         \n",
      "                                                                 \n",
      " batch_normalization_5 (Batc  (None, 352)              1408      \n",
      " hNormalization)                                                 \n",
      "                                                                 \n",
      " dense_6 (Dense)             (None, 3)                 1059      \n",
      "                                                                 \n",
      "=================================================================\n",
      "Total params: 756,995\n",
      "Trainable params: 752,195\n",
      "Non-trainable params: 4,800\n",
      "_________________________________________________________________\n",
      "\n",
      "214/214 [==============================] - 7s 25ms/step - loss: 0.8115 - accuracy: 0.6918\n",
      "Cross-entropy : 0.8115270733833313\n",
      "Accuracy : 0.691845178604126\n"
     ]
    }
   ],
   "source": [
    "models = tuner.get_best_models(num_models=3)\n",
    "top_model = models[0]\n",
    "top_model.summary()\n",
    "print()\n",
    "\n",
    "results = top_model.evaluate(test_data, test_label)\n",
    "print('Cross-entropy :', results[0])\n",
    "print('Accuracy :', results[1])"
   ]
  },
  {
   "cell_type": "code",
   "execution_count": 32,
   "metadata": {},
   "outputs": [
    {
     "data": {
      "image/png": "[encoded data removed]",
      "text/plain": [
       "<PIL.Image.Image image mode=RGBA size=936x63>"
      ]
     },
     "execution_count": 32,
     "metadata": {},
     "output_type": "execute_result"
    }
   ],
   "source": [
    "visualkeras.layered_view(top_model, legend=True)"
   ]
  },
  {
   "cell_type": "code",
   "execution_count": 33,
   "metadata": {},
   "outputs": [],
   "source": [
    "top_model.save('models/model_hidden5.h5')"
   ]
  },
  {
   "cell_type": "markdown",
   "metadata": {},
   "source": [
    "## Hyperband\n",
    "RAM이 버티지 못해 29 trial 까지만 시도"
   ]
  },
  {
   "cell_type": "code",
   "execution_count": null,
   "metadata": {
    "colab": {
     "base_uri": "https://localhost:8080/"
    },
    "id": "7uYthW2b6fiP",
    "outputId": "164fb118-ee7c-4925-b136-9b7e093b2b7b"
   },
   "outputs": [],
   "source": [
    "tuner = kt.Hyperband(build_hyper_model,\n",
    "                    objective = 'val_accuracy',\n",
    "                    max_epochs = 20,\n",
    "                    directory = 'keras_tuner',\n",
    "                    project_name = 'hyper_depth20')"
   ]
  },
  {
   "cell_type": "code",
   "execution_count": null,
   "metadata": {
    "colab": {
     "base_uri": "https://localhost:8080/"
    },
    "id": "xXSCIHWE6j_2",
    "outputId": "c20d6898-0221-4346-a420-84b7023e552f"
   },
   "outputs": [],
   "source": [
    "tuner.search(train_data, train_label, batch_size=100, epochs=10, validation_data=(test_data, test_label))"
   ]
  },
  {
   "cell_type": "code",
   "execution_count": null,
   "metadata": {
    "colab": {
     "base_uri": "https://localhost:8080/"
    },
    "id": "oO2QFJn0L7z_",
    "outputId": "a90701e0-f12c-41b0-ac7f-35355e5f7f2a"
   },
   "outputs": [
    {
     "name": "stdout",
     "output_type": "stream",
     "text": [
      "Model: \"sequential\"\n",
      "_________________________________________________________________\n",
      " Layer (type)                Output Shape              Param #   \n",
      "=================================================================\n",
      " dense (Dense)               (None, 352)               23936     \n",
      "                                                                 \n",
      " batch_normalization (BatchN  (None, 352)              1408      \n",
      " ormalization)                                                   \n",
      "                                                                 \n",
      " dense_1 (Dense)             (None, 416)               146848    \n",
      "                                                                 \n",
      " dropout (Dropout)           (None, 416)               0         \n",
      "                                                                 \n",
      " batch_normalization_1 (Batc  (None, 416)              1664      \n",
      " hNormalization)                                                 \n",
      "                                                                 \n",
      " dense_2 (Dense)             (None, 384)               160128    \n",
      "                                                                 \n",
      " dropout_1 (Dropout)         (None, 384)               0         \n",
      "                                                                 \n",
      " batch_normalization_2 (Batc  (None, 384)              1536      \n",
      " hNormalization)                                                 \n",
      "                                                                 \n",
      " dense_3 (Dense)             (None, 96)                36960     \n",
      "                                                                 \n",
      " dropout_2 (Dropout)         (None, 96)                0         \n",
      "                                                                 \n",
      " batch_normalization_3 (Batc  (None, 96)               384       \n",
      " hNormalization)                                                 \n",
      "                                                                 \n",
      " dense_4 (Dense)             (None, 448)               43456     \n",
      "                                                                 \n",
      " dropout_3 (Dropout)         (None, 448)               0         \n",
      "                                                                 \n",
      " batch_normalization_4 (Batc  (None, 448)              1792      \n",
      " hNormalization)                                                 \n",
      "                                                                 \n",
      " dense_5 (Dense)             (None, 160)               71840     \n",
      "                                                                 \n",
      " dropout_4 (Dropout)         (None, 160)               0         \n",
      "                                                                 \n",
      " batch_normalization_5 (Batc  (None, 160)              640       \n",
      " hNormalization)                                                 \n",
      "                                                                 \n",
      " dense_6 (Dense)             (None, 160)               25760     \n",
      "                                                                 \n",
      " dropout_5 (Dropout)         (None, 160)               0         \n",
      "                                                                 \n",
      " batch_normalization_6 (Batc  (None, 160)              640       \n",
      " hNormalization)                                                 \n",
      "                                                                 \n",
      " dense_7 (Dense)             (None, 256)               41216     \n",
      "                                                                 \n",
      " dropout_6 (Dropout)         (None, 256)               0         \n",
      "                                                                 \n",
      " batch_normalization_7 (Batc  (None, 256)              1024      \n",
      " hNormalization)                                                 \n",
      "                                                                 \n",
      " dense_8 (Dense)             (None, 224)               57568     \n",
      "                                                                 \n",
      " dropout_7 (Dropout)         (None, 224)               0         \n",
      "                                                                 \n",
      " batch_normalization_8 (Batc  (None, 224)              896       \n",
      " hNormalization)                                                 \n",
      "                                                                 \n",
      " dense_9 (Dense)             (None, 160)               36000     \n",
      "                                                                 \n",
      " dropout_8 (Dropout)         (None, 160)               0         \n",
      "                                                                 \n",
      " batch_normalization_9 (Batc  (None, 160)              640       \n",
      " hNormalization)                                                 \n",
      "                                                                 \n",
      " dense_10 (Dense)            (None, 96)                15456     \n",
      "                                                                 \n",
      " dropout_9 (Dropout)         (None, 96)                0         \n",
      "                                                                 \n",
      " batch_normalization_10 (Bat  (None, 96)               384       \n",
      " chNormalization)                                                \n",
      "                                                                 \n",
      " dense_11 (Dense)            (None, 224)               21728     \n",
      "                                                                 \n",
      " dropout_10 (Dropout)        (None, 224)               0         \n",
      "                                                                 \n",
      " batch_normalization_11 (Bat  (None, 224)              896       \n",
      " chNormalization)                                                \n",
      "                                                                 \n",
      " dense_12 (Dense)            (None, 96)                21600     \n",
      "                                                                 \n",
      " dropout_11 (Dropout)        (None, 96)                0         \n",
      "                                                                 \n",
      " batch_normalization_12 (Bat  (None, 96)               384       \n",
      " chNormalization)                                                \n",
      "                                                                 \n",
      " dense_13 (Dense)            (None, 288)               27936     \n",
      "                                                                 \n",
      " dropout_12 (Dropout)        (None, 288)               0         \n",
      "                                                                 \n",
      " batch_normalization_13 (Bat  (None, 288)              1152      \n",
      " chNormalization)                                                \n",
      "                                                                 \n",
      " dense_14 (Dense)            (None, 3)                 867       \n",
      "                                                                 \n",
      "=================================================================\n",
      "Total params: 744,739\n",
      "Trainable params: 738,019\n",
      "Non-trainable params: 6,720\n",
      "_________________________________________________________________\n",
      "\n",
      "214/214 [==============================] - 116s 387ms/step - loss: 0.8225 - accuracy: 0.6916\n",
      "Cross-entropy : 0.8224754333496094\n",
      "Accuracy : 0.6915518045425415\n"
     ]
    }
   ],
   "source": [
    "models = tuner.get_best_models(num_models=3)\n",
    "top_model = models[0]\n",
    "top_model.summary()\n",
    "print()\n",
    "\n",
    "results = top_model.evaluate(test_data, test_label)\n",
    "print('Cross-entropy :', results[0])\n",
    "print('Accuracy :', results[1])"
   ]
  },
  {
   "cell_type": "code",
   "execution_count": null,
   "metadata": {},
   "outputs": [
    {
     "data": {
      "image/png": "[encoded data removed]",
      "text/plain": [
       "<PIL.Image.Image image mode=RGBA size=1560x63>"
      ]
     },
     "metadata": {},
     "output_type": "display_data"
    }
   ],
   "source": [
    "visualkeras.layered_view(top_model, legend=True)"
   ]
  },
  {
   "cell_type": "code",
   "execution_count": null,
   "metadata": {},
   "outputs": [],
   "source": [
    "top_model.save('models/model_hyperband.h5')"
   ]
  },
  {
   "cell_type": "code",
   "execution_count": null,
   "metadata": {},
   "outputs": [],
   "source": []
  }
 ],
 "metadata": {
  "interpreter": {
   "hash": "a71a6a35a5e2082b4baf2330a569e10365064de6ba0b0fb1962d72bc015b0efc"
  },
  "kernelspec": {
   "display_name": "Python 3.9.10 ('tf')",
   "language": "python",
   "name": "python3"
  },
  "language_info": {
   "codemirror_mode": {
    "name": "ipython",
    "version": 3
   },
   "file_extension": ".py",
   "mimetype": "text/x-python",
   "name": "python",
   "nbconvert_exporter": "python",
   "pygments_lexer": "ipython3",
   "version": "3.9.10"
  },
  "orig_nbformat": 4
 },
 "nbformat": 4,
 "nbformat_minor": 2
}
