{
 "cells": [
  {
   "cell_type": "markdown",
   "metadata": {},
   "source": [
    "# AutoKeras"
   ]
  },
  {
   "cell_type": "code",
   "execution_count": null,
   "metadata": {},
   "outputs": [],
   "source": [
    "import os\n",
    "root_dir = '../../' if os.getcwd().split('/')[-1] != 'credit-now' else './'\n",
    "os.chdir(root_dir)\n",
    "\n",
    "import numpy as np\n",
    "import pandas as pd\n",
    "import matplotlib.pyplot as plt\n",
    "\n",
    "import tensorflow as tf\n",
    "from tensorflow.keras import datasets, utils\n",
    "from tensorflow.keras import models, layers, activations, initializers, losses, optimizers, metrics\n",
    "\n",
    "import credit_data\n",
    "import visualkeras\n",
    "import autokeras as ak\n",
    "\n",
    "import os\n",
    "os.environ['TF_CPP_MIN_LOG_LEVEL'] = '2'"
   ]
  },
  {
   "cell_type": "code",
   "execution_count": null,
   "metadata": {},
   "outputs": [
    {
     "name": "stdout",
     "output_type": "stream",
     "text": [
      "(15906, 67) (6818, 67) (15906, 3) (6818, 3)\n"
     ]
    }
   ],
   "source": [
    "train_data, test_data, train_label, test_label = credit_data.load_data()\n",
    "\n",
    "train_data = train_data.todense()\n",
    "test_data = test_data.todense()\n",
    "train_label = utils.to_categorical(train_label)\n",
    "test_label = utils.to_categorical(test_label)\n",
    "\n",
    "print(train_data.shape, test_data.shape, train_label.shape, test_label.shape)"
   ]
  },
  {
   "cell_type": "code",
   "execution_count": null,
   "metadata": {
    "colab": {
     "base_uri": "https://localhost:8080/"
    },
    "executionInfo": {
     "elapsed": 13700415,
     "status": "ok",
     "timestamp": 1651644138125,
     "user": {
      "displayName": "병민수",
      "userId": "17405133242292037053"
     },
     "user_tz": -540
    },
    "id": "wCoCUv_Q1j_U",
    "outputId": "2341c930-a94f-4ee3-f2c3-1f70b8ab9746"
   },
   "outputs": [
    {
     "name": "stdout",
     "output_type": "stream",
     "text": [
      "Trial 65 Complete [00h 02m 50s]\n",
      "val_accuracy: 0.6347992420196533\n",
      "\n",
      "Best val_accuracy So Far: 0.6513702869415283\n",
      "Total elapsed time: 03h 46m 35s\n",
      "INFO:tensorflow:Oracle triggered exit\n",
      "498/498 [==============================] - 5s 7ms/step - loss: 1.0022 - accuracy: 0.6125\n",
      "INFO:tensorflow:Assets written to: ./structured_data_classifier/best_model/assets\n",
      "214/214 [==============================] - 2s 6ms/step - loss: 0.8875 - accuracy: 0.6390\n",
      "214/214 [==============================] - 1s 6ms/step\n",
      "[0.8875452876091003, 0.6390436887741089]\n",
      "[[0. 0. 1.]\n",
      " [0. 0. 1.]\n",
      " [0. 0. 1.]\n",
      " ...\n",
      " [0. 0. 1.]\n",
      " [0. 0. 1.]\n",
      " [0. 0. 1.]]\n"
     ]
    }
   ],
   "source": [
    "clf = ak.StructuredDataClassifier()\n",
    "clf.fit(train_data, train_label)\n",
    "\n",
    "accuracy = clf.evaluate(test_data, test_label)\n",
    "result = clf.predict(test_data)\n",
    "\n",
    "print(accuracy)\n",
    "print(result)"
   ]
  },
  {
   "cell_type": "code",
   "execution_count": null,
   "metadata": {
    "colab": {
     "base_uri": "https://localhost:8080/",
     "height": 80
    },
    "executionInfo": {
     "elapsed": 302,
     "status": "ok",
     "timestamp": 1651648247526,
     "user": {
      "displayName": "병민수",
      "userId": "17405133242292037053"
     },
     "user_tz": -540
    },
    "id": "0EMYaZtp59DV",
    "outputId": "416b00cc-2d11-47bd-bb90-bf55de458ed9"
   },
   "outputs": [
    {
     "data": {
      "image/png": "[encoded data removed]",
      "text/plain": [
       "<PIL.Image.Image image mode=RGBA size=677x63 at 0x7F963A1C1210>"
      ]
     },
     "metadata": {},
     "output_type": "display_data"
    }
   ],
   "source": [
    "visualkeras.layered_view(clf, legend=True)"
   ]
  },
  {
   "cell_type": "code",
   "execution_count": null,
   "metadata": {
    "colab": {
     "base_uri": "https://localhost:8080/"
    },
    "executionInfo": {
     "elapsed": 23294,
     "status": "ok",
     "timestamp": 1651649509120,
     "user": {
      "displayName": "병민수",
      "userId": "17405133242292037053"
     },
     "user_tz": -540
    },
    "id": "ejcAmNaE-eI4",
    "outputId": "2229d752-bc5f-45e5-bb9c-2893907a0423"
   },
   "outputs": [],
   "source": [
    "model = clf.export_model()\n",
    "history = model.fit(train_data, train_label, batch_size=100, epochs=10, validation_split=0.3)\n",
    "result = model.evaluate(test_data, test_label)"
   ]
  },
  {
   "cell_type": "code",
   "execution_count": null,
   "metadata": {
    "colab": {
     "base_uri": "https://localhost:8080/"
    },
    "executionInfo": {
     "elapsed": 414,
     "status": "ok",
     "timestamp": 1651649519559,
     "user": {
      "displayName": "병민수",
      "userId": "17405133242292037053"
     },
     "user_tz": -540
    },
    "id": "qVBVjjXt-42d",
    "outputId": "4f78a98e-9dff-42d4-da78-8b7842cdba4f"
   },
   "outputs": [
    {
     "name": "stdout",
     "output_type": "stream",
     "text": [
      "loss (cross-entropy) : 0.8804722428321838\n",
      "test accuracy : 0.6388970613479614\n"
     ]
    }
   ],
   "source": [
    "print('loss (cross-entropy) :', result[0])\n",
    "print('test accuracy :', result[1])"
   ]
  },
  {
   "cell_type": "code",
   "execution_count": null,
   "metadata": {
    "colab": {
     "base_uri": "https://localhost:8080/",
     "height": 279
    },
    "executionInfo": {
     "elapsed": 323,
     "status": "ok",
     "timestamp": 1651649825815,
     "user": {
      "displayName": "병민수",
      "userId": "17405133242292037053"
     },
     "user_tz": -540
    },
    "id": "l42GUPGL-qlO",
    "outputId": "b71e512e-2f59-4b25-a72c-81c92c3449e7"
   },
   "outputs": [
    {
     "data": {
      "image/png": "[encoded data removed]",
      "text/plain": [
       "<Figure size 432x288 with 1 Axes>"
      ]
     },
     "metadata": {},
     "output_type": "display_data"
    }
   ],
   "source": [
    "acc = history.history['accuracy']\n",
    "val_acc = history.history['val_accuracy']\n",
    "\n",
    "x_len = np.arange(len(acc))\n",
    "\n",
    "plt.plot(x_len, acc, marker='.', c='blue', label=\"Train-set Acc.\")\n",
    "plt.plot(x_len, val_acc, marker='.', c='red', label=\"Validation-set Acc.\")\n",
    "\n",
    "plt.legend(loc='upper right')\n",
    "plt.grid()\n",
    "plt.xlabel('epoch')\n",
    "plt.ylabel('Accuracy')\n",
    "plt.show()"
   ]
  },
  {
   "cell_type": "code",
   "execution_count": null,
   "metadata": {},
   "outputs": [
    {
     "ename": "ValueError",
     "evalue": "Unknown layer: Custom>MultiCategoryEncoding. Please ensure this object is passed to the `custom_objects` argument. See https://www.tensorflow.org/guide/keras/save_and_serialize#registering_the_custom_object for details.",
     "output_type": "error",
     "traceback": [
      "\u001b[0;31m---------------------------------------------------------------------------\u001b[0m\n",
      "\u001b[0;31mValueError\u001b[0m                                Traceback (most recent call last)\n",
      "\u001b[1;32m/Users/cuz/Documents/Github/credit-now/dl_models.ipynb Cell 19'\u001b[0m in \u001b[0;36m<cell line: 1>\u001b[0;34m()\u001b[0m\n",
      "\u001b[0;32m----> <a href='vscode-notebook-cell:/Users/cuz/Documents/Github/credit-now/dl_models.ipynb#ch0000059?line=0'>1</a>\u001b[0m new_model \u001b[39m=\u001b[39m models\u001b[39m.\u001b[39;49mload_model(\u001b[39m'\u001b[39;49m\u001b[39mcredit_data/model_autokeras.h5\u001b[39;49m\u001b[39m'\u001b[39;49m)\n",
      "\n",
      "File \u001b[0;32m~/miniforge3/envs/tf/lib/python3.9/site-packages/keras/utils/traceback_utils.py:67\u001b[0m, in \u001b[0;36mfilter_traceback.<locals>.error_handler\u001b[0;34m(*args, **kwargs)\u001b[0m\n",
      "\u001b[1;32m     <a href='file:///Users/cuz/miniforge3/envs/tf/lib/python3.9/site-packages/keras/utils/traceback_utils.py?line=64'>65</a>\u001b[0m \u001b[39mexcept\u001b[39;00m \u001b[39mException\u001b[39;00m \u001b[39mas\u001b[39;00m e:  \u001b[39m# pylint: disable=broad-except\u001b[39;00m\n",
      "\u001b[1;32m     <a href='file:///Users/cuz/miniforge3/envs/tf/lib/python3.9/site-packages/keras/utils/traceback_utils.py?line=65'>66</a>\u001b[0m   filtered_tb \u001b[39m=\u001b[39m _process_traceback_frames(e\u001b[39m.\u001b[39m__traceback__)\n",
      "\u001b[0;32m---> <a href='file:///Users/cuz/miniforge3/envs/tf/lib/python3.9/site-packages/keras/utils/traceback_utils.py?line=66'>67</a>\u001b[0m   \u001b[39mraise\u001b[39;00m e\u001b[39m.\u001b[39mwith_traceback(filtered_tb) \u001b[39mfrom\u001b[39;00m \u001b[39mNone\u001b[39m\n",
      "\u001b[1;32m     <a href='file:///Users/cuz/miniforge3/envs/tf/lib/python3.9/site-packages/keras/utils/traceback_utils.py?line=67'>68</a>\u001b[0m \u001b[39mfinally\u001b[39;00m:\n",
      "\u001b[1;32m     <a href='file:///Users/cuz/miniforge3/envs/tf/lib/python3.9/site-packages/keras/utils/traceback_utils.py?line=68'>69</a>\u001b[0m   \u001b[39mdel\u001b[39;00m filtered_tb\n",
      "\n",
      "File \u001b[0;32m~/miniforge3/envs/tf/lib/python3.9/site-packages/keras/utils/generic_utils.py:562\u001b[0m, in \u001b[0;36mclass_and_config_for_serialized_keras_object\u001b[0;34m(config, module_objects, custom_objects, printable_module_name)\u001b[0m\n",
      "\u001b[1;32m    <a href='file:///Users/cuz/miniforge3/envs/tf/lib/python3.9/site-packages/keras/utils/generic_utils.py?line=559'>560</a>\u001b[0m \u001b[39mcls\u001b[39m \u001b[39m=\u001b[39m get_registered_object(class_name, custom_objects, module_objects)\n",
      "\u001b[1;32m    <a href='file:///Users/cuz/miniforge3/envs/tf/lib/python3.9/site-packages/keras/utils/generic_utils.py?line=560'>561</a>\u001b[0m \u001b[39mif\u001b[39;00m \u001b[39mcls\u001b[39m \u001b[39mis\u001b[39;00m \u001b[39mNone\u001b[39;00m:\n",
      "\u001b[0;32m--> <a href='file:///Users/cuz/miniforge3/envs/tf/lib/python3.9/site-packages/keras/utils/generic_utils.py?line=561'>562</a>\u001b[0m   \u001b[39mraise\u001b[39;00m \u001b[39mValueError\u001b[39;00m(\n",
      "\u001b[1;32m    <a href='file:///Users/cuz/miniforge3/envs/tf/lib/python3.9/site-packages/keras/utils/generic_utils.py?line=562'>563</a>\u001b[0m       \u001b[39mf\u001b[39m\u001b[39m'\u001b[39m\u001b[39mUnknown \u001b[39m\u001b[39m{\u001b[39;00mprintable_module_name\u001b[39m}\u001b[39;00m\u001b[39m: \u001b[39m\u001b[39m{\u001b[39;00mclass_name\u001b[39m}\u001b[39;00m\u001b[39m. Please ensure this \u001b[39m\u001b[39m'\u001b[39m\n",
      "\u001b[1;32m    <a href='file:///Users/cuz/miniforge3/envs/tf/lib/python3.9/site-packages/keras/utils/generic_utils.py?line=563'>564</a>\u001b[0m       \u001b[39m'\u001b[39m\u001b[39mobject is passed to the `custom_objects` argument. See \u001b[39m\u001b[39m'\u001b[39m\n",
      "\u001b[1;32m    <a href='file:///Users/cuz/miniforge3/envs/tf/lib/python3.9/site-packages/keras/utils/generic_utils.py?line=564'>565</a>\u001b[0m       \u001b[39m'\u001b[39m\u001b[39mhttps://www.tensorflow.org/guide/keras/save_and_serialize\u001b[39m\u001b[39m'\u001b[39m\n",
      "\u001b[1;32m    <a href='file:///Users/cuz/miniforge3/envs/tf/lib/python3.9/site-packages/keras/utils/generic_utils.py?line=565'>566</a>\u001b[0m       \u001b[39m'\u001b[39m\u001b[39m#registering_the_custom_object for details.\u001b[39m\u001b[39m'\u001b[39m)\n",
      "\u001b[1;32m    <a href='file:///Users/cuz/miniforge3/envs/tf/lib/python3.9/site-packages/keras/utils/generic_utils.py?line=567'>568</a>\u001b[0m cls_config \u001b[39m=\u001b[39m config[\u001b[39m'\u001b[39m\u001b[39mconfig\u001b[39m\u001b[39m'\u001b[39m]\n",
      "\u001b[1;32m    <a href='file:///Users/cuz/miniforge3/envs/tf/lib/python3.9/site-packages/keras/utils/generic_utils.py?line=568'>569</a>\u001b[0m \u001b[39m# Check if `cls_config` is a list. If it is a list, return the class and the\u001b[39;00m\n",
      "\u001b[1;32m    <a href='file:///Users/cuz/miniforge3/envs/tf/lib/python3.9/site-packages/keras/utils/generic_utils.py?line=569'>570</a>\u001b[0m \u001b[39m# associated class configs for recursively deserialization. This case will\u001b[39;00m\n",
      "\u001b[1;32m    <a href='file:///Users/cuz/miniforge3/envs/tf/lib/python3.9/site-packages/keras/utils/generic_utils.py?line=570'>571</a>\u001b[0m \u001b[39m# happen on the old version of sequential model (e.g. `keras_version` ==\u001b[39;00m\n",
      "\u001b[1;32m    <a href='file:///Users/cuz/miniforge3/envs/tf/lib/python3.9/site-packages/keras/utils/generic_utils.py?line=571'>572</a>\u001b[0m \u001b[39m# \"2.0.6\"), which is serialized in a different structure, for example\u001b[39;00m\n",
      "\u001b[1;32m    <a href='file:///Users/cuz/miniforge3/envs/tf/lib/python3.9/site-packages/keras/utils/generic_utils.py?line=572'>573</a>\u001b[0m \u001b[39m# \"{'class_name': 'Sequential',\u001b[39;00m\n",
      "\u001b[1;32m    <a href='file:///Users/cuz/miniforge3/envs/tf/lib/python3.9/site-packages/keras/utils/generic_utils.py?line=573'>574</a>\u001b[0m \u001b[39m#   'config': [{'class_name': 'Embedding', 'config': ...}, {}, ...]}\".\u001b[39;00m\n",
      "\n",
      "\u001b[0;31mValueError\u001b[0m: Unknown layer: Custom>MultiCategoryEncoding. Please ensure this object is passed to the `custom_objects` argument. See https://www.tensorflow.org/guide/keras/save_and_serialize#registering_the_custom_object for details."
     ]
    }
   ],
   "source": [
    "new_model = models.load_model('credit_data/model_autokeras.h5')"
   ]
  },
  {
   "cell_type": "code",
   "execution_count": null,
   "metadata": {},
   "outputs": [],
   "source": []
  }
 ],
 "metadata": {
  "language_info": {
   "name": "python"
  },
  "orig_nbformat": 4
 },
 "nbformat": 4,
 "nbformat_minor": 2
}
