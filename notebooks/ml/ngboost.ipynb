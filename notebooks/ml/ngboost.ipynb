{
 "cells": [
  {
   "cell_type": "markdown",
   "metadata": {},
   "source": [
    "# NGBoost"
   ]
  },
  {
   "cell_type": "code",
   "execution_count": 28,
   "metadata": {},
   "outputs": [],
   "source": [
    "import os\n",
    "root_dir = '../../' if os.getcwd().split('/')[-1] != 'credit-now' else './'\n",
    "os.chdir(root_dir)\n",
    "\n",
    "import warnings\n",
    "warnings.filterwarnings(\"ignore\")  \n",
    "\n",
    "import numpy as np\n",
    "import pandas as pd\n",
    "import matplotlib.pyplot as plt\n",
    "\n",
    "from sklearn import model_selection\n",
    "from sklearn.metrics import accuracy_score\n",
    "\n",
    "import credit_data"
   ]
  },
  {
   "cell_type": "markdown",
   "metadata": {},
   "source": [
    "## 데이터 전처리\n",
    "모든 열을 int형으로 변경"
   ]
  },
  {
   "cell_type": "code",
   "execution_count": null,
   "metadata": {},
   "outputs": [
    {
     "data": {
      "text/plain": [
       "((22724, 19), (26457, 26))"
      ]
     },
     "metadata": {},
     "output_type": "display_data"
    }
   ],
   "source": [
    "train_old = pd.read_csv('credit_data/train_old.csv')\n",
    "train_new = pd.read_csv('credit_data/train.csv')\n",
    "train_old.shape, train_new.shape"
   ]
  },
  {
   "cell_type": "code",
   "execution_count": null,
   "metadata": {},
   "outputs": [],
   "source": [
    "for df in [train_old,train_new]:\n",
    "    for column in df.columns.tolist():\n",
    "        df[column] = df[column].astype('int64')"
   ]
  },
  {
   "cell_type": "code",
   "execution_count": null,
   "metadata": {},
   "outputs": [],
   "source": [
    "old_data = train_old.drop(['index', 'credit'], axis=1).copy()\n",
    "old_label = np.array(train_old[['credit']])\n",
    "\n",
    "old_train, old_test, old_train_label, old_test_label = \\\n",
    "    model_selection.train_test_split(old_data, old_label, test_size=0.3,\n",
    "                                        random_state=0, stratify=old_label) \n",
    "\n",
    "new_data = train_new.drop(['index', 'credit'], axis=1).copy()\n",
    "new_label = np.array(train_new[['credit']])\n",
    "\n",
    "new_train, new_test, new_train_label, new_test_label = \\\n",
    "    model_selection.train_test_split(new_data, new_label, test_size=0.3,\n",
    "                                        random_state=0, stratify=new_label) "
   ]
  },
  {
   "cell_type": "markdown",
   "metadata": {},
   "source": [
    "## NGBoost Classifier"
   ]
  },
  {
   "cell_type": "code",
   "execution_count": 51,
   "metadata": {},
   "outputs": [],
   "source": [
    "#!pip install --upgrade git+https://github.com/stanfordmlgroup/ngboost.git"
   ]
  },
  {
   "cell_type": "code",
   "execution_count": 52,
   "metadata": {},
   "outputs": [],
   "source": [
    "from ngboost import NGBClassifier\n",
    "from ngboost.distns import k_categorical, Bernoulli\n",
    "\n",
    "ngb_cat = NGBClassifier(Dist=k_categorical(3), verbose=False) # tell ngboost that there are 3 possible outcomes"
   ]
  },
  {
   "cell_type": "markdown",
   "metadata": {},
   "source": [
    "Compare old & new"
   ]
  },
  {
   "cell_type": "code",
   "execution_count": 53,
   "metadata": {},
   "outputs": [
    {
     "data": {
      "text/plain": [
       "0.6406570841889117"
      ]
     },
     "execution_count": 53,
     "metadata": {},
     "output_type": "execute_result"
    }
   ],
   "source": [
    "ngb_cat.fit(old_train, old_train_label) # Y should have only 3 values: {0,1,2}\n",
    "ngb_pred_test = ngb_cat.predict(old_test)\n",
    "accuracy_score(ngb_pred_test, old_test_label)"
   ]
  },
  {
   "cell_type": "code",
   "execution_count": 54,
   "metadata": {},
   "outputs": [
    {
     "data": {
      "text/plain": [
       "0.6924918115394306"
      ]
     },
     "execution_count": 54,
     "metadata": {},
     "output_type": "execute_result"
    }
   ],
   "source": [
    "ngb_cat.fit(new_train, new_train_label) # Y should have only 3 values: {0,1,2}\n",
    "ngb_pred_test = ngb_cat.predict(new_test)\n",
    "accuracy_score(ngb_pred_test, new_test_label)"
   ]
  },
  {
   "cell_type": "code",
   "execution_count": 55,
   "metadata": {},
   "outputs": [],
   "source": [
    "# print(round(accuracy_score(ngb_cat.predict(train_data), train_label), 3))"
   ]
  },
  {
   "cell_type": "code",
   "execution_count": 56,
   "metadata": {},
   "outputs": [],
   "source": [
    "# ngb_cat.predict(test_data)"
   ]
  },
  {
   "cell_type": "code",
   "execution_count": 57,
   "metadata": {},
   "outputs": [],
   "source": [
    "# ngb_cat.predict_proba(test_data)"
   ]
  },
  {
   "cell_type": "code",
   "execution_count": 62,
   "metadata": {},
   "outputs": [
    {
     "data": {
      "text/plain": [
       "{'p0': array([0.14151951, 0.13084966, 0.1195992 , ..., 0.29091686, 0.11412647,\n",
       "        0.10206274]),\n",
       " 'p1': array([0.25072773, 0.14621426, 0.16669859, ..., 0.65859704, 0.22018458,\n",
       "        0.15644116]),\n",
       " 'p2': array([0.60775276, 0.72293607, 0.71370221, ..., 0.05048611, 0.66568895,\n",
       "        0.7414961 ])}"
      ]
     },
     "execution_count": 62,
     "metadata": {},
     "output_type": "execute_result"
    }
   ],
   "source": [
    "ngb_cat.pred_dist(new_test).params"
   ]
  },
  {
   "cell_type": "code",
   "execution_count": null,
   "metadata": {},
   "outputs": [],
   "source": [
    "ngb_cat.pred_dist(new_test).params"
   ]
  },
  {
   "cell_type": "code",
   "execution_count": null,
   "metadata": {},
   "outputs": [
    {
     "data": {
      "text/plain": [
       "NGBClassifier(random_state=RandomState(MT19937) at 0x103E7FB40, verbose=False)"
      ]
     },
     "execution_count": 19,
     "metadata": {},
     "output_type": "execute_result"
    }
   ],
   "source": [
    "from ngboost.scores import LogScore, CRPScore \n",
    "\n",
    "NGBClassifier(Dist = k_categorical(3), Score = LogScore, verbose=False).fit(train_data, train_label)"
   ]
  },
  {
   "cell_type": "code",
   "execution_count": null,
   "metadata": {},
   "outputs": [],
   "source": []
  }
 ],
 "metadata": {
  "interpreter": {
   "hash": "eacaeaac653f3999db548ae3a5153262989fd531b20bb0fd07b1fcdee8a44d12"
  },
  "kernelspec": {
   "display_name": "Python 3.8.13 ('tf_25')",
   "language": "python",
   "name": "python3"
  },
  "language_info": {
   "codemirror_mode": {
    "name": "ipython",
    "version": 3
   },
   "file_extension": ".py",
   "mimetype": "text/x-python",
   "name": "python",
   "nbconvert_exporter": "python",
   "pygments_lexer": "ipython3",
   "version": "3.8.13"
  },
  "orig_nbformat": 4
 },
 "nbformat": 4,
 "nbformat_minor": 2
}
