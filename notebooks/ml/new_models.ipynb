{
 "cells": [
  {
   "cell_type": "markdown",
   "metadata": {},
   "source": [
    "# ML Models"
   ]
  },
  {
   "cell_type": "code",
   "execution_count": 1,
   "metadata": {},
   "outputs": [],
   "source": [
    "import os\n",
    "root_dir = '../../' if os.getcwd().split('/')[-1] != 'credit-now' else './'\n",
    "os.chdir(root_dir)\n",
    "\n",
    "import warnings\n",
    "warnings.filterwarnings(\"ignore\")\n",
    "\n",
    "import numpy as np\n",
    "import pandas as pd\n",
    "import matplotlib.pyplot as plt\n",
    "\n",
    "from sklearn.metrics import accuracy_score\n",
    "from sklearn.linear_model import LogisticRegression\n",
    "from sklearn.neighbors import KNeighborsClassifier\n",
    "from sklearn.svm import SVC\n",
    "from sklearn.tree import DecisionTreeClassifier\n",
    "from sklearn.ensemble import RandomForestClassifier\n",
    "from sklearn.naive_bayes import BernoulliNB\n",
    "from xgboost import XGBClassifier\n",
    "from lightgbm.sklearn import LGBMClassifier\n",
    "from sklearn.discriminant_analysis import LinearDiscriminantAnalysis\n",
    "\n",
    "import credit_data\n",
    "from tqdm import tqdm\n",
    "from vecstack import StackingTransformer\n",
    "from itertools import combinations\n",
    "from joblib import dump, load"
   ]
  },
  {
   "cell_type": "code",
   "execution_count": 2,
   "metadata": {},
   "outputs": [
    {
     "name": "stdout",
     "output_type": "stream",
     "text": [
      "(18519, 65) (7938, 65) (18519, 1) (7938, 1)\n"
     ]
    }
   ],
   "source": [
    "x_train, x_test, y_train, y_test = credit_data.load_train_data()\n",
    "print(x_train.shape, x_test.shape, y_train.shape, y_test.shape)"
   ]
  },
  {
   "cell_type": "code",
   "execution_count": 3,
   "metadata": {},
   "outputs": [],
   "source": [
    "models = [\n",
    "    ('Logistic', LogisticRegression()),\n",
    "    ('KNN', KNeighborsClassifier(19)),\n",
    "    ('SVM', SVC(C=1, gamma=0.1)),\n",
    "    ('DecisionTree', DecisionTreeClassifier(random_state = 0, max_depth = 2)),\n",
    "    ('RandomForest', RandomForestClassifier(random_state = 0, n_estimators = 300, max_depth = 10)),\n",
    "    ('NaiveBayes', BernoulliNB(alpha=1)),\n",
    "    ('XGBoost', XGBClassifier(seed = 0, n_estimators = 200, max_depth = 6, verbosity=0)),\n",
    "    ('LightGBM', LGBMClassifier(random_state=0, n_estimators = 400, max_depth = 10))]"
   ]
  },
  {
   "cell_type": "code",
   "execution_count": 4,
   "metadata": {},
   "outputs": [
    {
     "name": "stdout",
     "output_type": "stream",
     "text": [
      "Logistic:  0.6432350718065004\n",
      "KNN:  0.6519274376417233\n",
      "SVM:  0.6810279667422524\n",
      "DecisionTree:  0.6926177878558831\n",
      "RandomForest:  0.6953892668178382\n",
      "NaiveBayes:  0.6423532375913328\n",
      "XGBoost:  0.7161753590325018\n",
      "LightGBM:  0.7163013353489543\n"
     ]
    }
   ],
   "source": [
    "for name, model in models:\n",
    "    model.fit(x_train, y_train)\n",
    "    print(f'{name}: ', accuracy_score(model.predict(x_test), y_test))"
   ]
  },
  {
   "cell_type": "code",
   "execution_count": 5,
   "metadata": {},
   "outputs": [
    {
     "name": "stdout",
     "output_type": "stream",
     "text": [
      "Linear Discriminat Analysis: 0.6424792139077853\n"
     ]
    }
   ],
   "source": [
    "clf = LinearDiscriminantAnalysis()\n",
    "clf.fit(x_train, y_train)\n",
    "print('Linear Discriminat Analysis:', accuracy_score(clf.predict(x_test), y_test))"
   ]
  },
  {
   "cell_type": "markdown",
   "metadata": {},
   "source": [
    "## Model Stacking"
   ]
  },
  {
   "cell_type": "markdown",
   "metadata": {},
   "source": [
    "### 5-Fold"
   ]
  },
  {
   "cell_type": "code",
   "execution_count": 6,
   "metadata": {},
   "outputs": [],
   "source": [
    "# Stacking 모델은 모든 조합에 대해 for문을 돌렸을 때 가장 높은 Accuracy가 나온 모델 조합을 선택\n",
    "estimator = [\n",
    "    ('SVM', SVC(C=1, gamma=0.1)),\n",
    "    ('DecisionTree', DecisionTreeClassifier(random_state = 0, max_depth = 2)),\n",
    "    ('RandomForest', RandomForestClassifier(random_state = 0, n_estimators = 300, max_depth = 10)),\n",
    "    ('XGBoost', XGBClassifier(seed = 0, n_estimators = 200, max_depth = 6, verbosity=0))]"
   ]
  },
  {
   "cell_type": "code",
   "execution_count": 7,
   "metadata": {},
   "outputs": [],
   "source": [
    "stack = StackingTransformer(estimator, \n",
    "                            regression = False, \n",
    "                            metric = accuracy_score, \n",
    "                            n_folds = 5, stratified = True, shuffle = True, \n",
    "                            random_state = 0, verbose = 0)"
   ]
  },
  {
   "cell_type": "code",
   "execution_count": 8,
   "metadata": {},
   "outputs": [
    {
     "name": "stdout",
     "output_type": "stream",
     "text": [
      "train accuracy: 0.7065716291376424\n",
      "test accuracy: 0.718946837994457\n"
     ]
    }
   ],
   "source": [
    "stack = stack.fit(x_train, y_train)\n",
    "\n",
    "S_train = stack.transform(x_train)\n",
    "S_test = stack.transform(x_test)\n",
    "\n",
    "model = RandomForestClassifier(random_state = 0, n_estimators = 300, max_depth = 10)\n",
    "model = model.fit(S_train, y_train)\n",
    "\n",
    "pred_train = model.predict(S_train)\n",
    "pred_test = model.predict(S_test)\n",
    "print('train accuracy:', accuracy_score(y_train, pred_train))\n",
    "print('test accuracy:', accuracy_score(y_test, pred_test))"
   ]
  },
  {
   "cell_type": "code",
   "execution_count": 9,
   "metadata": {},
   "outputs": [
    {
     "data": {
      "text/plain": [
       "['models/new_model_5fold.pkl']"
      ]
     },
     "execution_count": 9,
     "metadata": {},
     "output_type": "execute_result"
    }
   ],
   "source": [
    "dump(stack, 'models/new_stack_5fold.pkl', compress=3)\n",
    "dump(model, 'models/new_model_5fold.pkl')"
   ]
  },
  {
   "cell_type": "code",
   "execution_count": 10,
   "metadata": {},
   "outputs": [
    {
     "name": "stdout",
     "output_type": "stream",
     "text": [
      "train accuracy: 0.7065716291376424\n",
      "test accuracy: 0.718946837994457\n"
     ]
    }
   ],
   "source": [
    "stack = load('models/new_stack_5fold.pkl')\n",
    "\n",
    "S_train = stack.transform(x_train)\n",
    "S_test = stack.transform(x_test)\n",
    "\n",
    "model = load('models/new_model_5fold.pkl')\n",
    "\n",
    "pred_train = model.predict(S_train)\n",
    "pred_test = model.predict(S_test)\n",
    "print('train accuracy:', accuracy_score(y_train, pred_train))\n",
    "print('test accuracy:', accuracy_score(y_test, pred_test))"
   ]
  },
  {
   "cell_type": "markdown",
   "metadata": {},
   "source": [
    "### 10-Fold"
   ]
  },
  {
   "cell_type": "code",
   "execution_count": 11,
   "metadata": {},
   "outputs": [],
   "source": [
    "# Stacking 모델은 모든 조합에 대해 for문을 돌렸을 때 가장 높은 Accuracy가 나온 모델 조합을 선택\n",
    "estimator = [\n",
    "    ('KNN', KNeighborsClassifier(19)),\n",
    "    ('RandomForest', RandomForestClassifier(random_state = 0, n_estimators = 300, max_depth = 10)),\n",
    "    ('NaiveBayes', BernoulliNB(alpha=1)),\n",
    "    ('XGBoost', XGBClassifier(seed = 0, n_estimators = 200, max_depth = 6, verbosity=0)),\n",
    "    ('LightGBM', LGBMClassifier(random_state=0, n_estimators = 400, max_depth = 10))]"
   ]
  },
  {
   "cell_type": "code",
   "execution_count": 12,
   "metadata": {},
   "outputs": [],
   "source": [
    "stack = StackingTransformer(estimator, \n",
    "                            regression = False, \n",
    "                            metric = accuracy_score, \n",
    "                            n_folds = 10, stratified = True, shuffle = True, \n",
    "                            random_state = 0, verbose = 0)"
   ]
  },
  {
   "cell_type": "code",
   "execution_count": 13,
   "metadata": {},
   "outputs": [
    {
     "name": "stdout",
     "output_type": "stream",
     "text": [
      "train accuracy: 0.7146174199470814\n",
      "test accuracy: 0.719954648526077\n"
     ]
    }
   ],
   "source": [
    "stack = stack.fit(x_train, y_train)\n",
    "\n",
    "S_train = stack.transform(x_train)\n",
    "S_test = stack.transform(x_test)\n",
    "\n",
    "model = XGBClassifier(seed = 0, n_estimators = 200, max_depth = 6, verbosity=0)\n",
    "model = model.fit(S_train, y_train)\n",
    "pred_train = model.predict(S_train)\n",
    "pred_test = model.predict(S_test)\n",
    "print('train accuracy:', accuracy_score(y_train, pred_train))\n",
    "print('test accuracy:', accuracy_score(y_test, pred_test))"
   ]
  },
  {
   "cell_type": "code",
   "execution_count": 14,
   "metadata": {},
   "outputs": [
    {
     "data": {
      "text/plain": [
       "['models/new_model_10fold.pkl']"
      ]
     },
     "execution_count": 14,
     "metadata": {},
     "output_type": "execute_result"
    }
   ],
   "source": [
    "dump(stack, 'models/new_stack_10fold.pkl', compress=3)\n",
    "dump(model, 'models/new_model_10fold.pkl')"
   ]
  },
  {
   "cell_type": "code",
   "execution_count": 15,
   "metadata": {},
   "outputs": [
    {
     "name": "stdout",
     "output_type": "stream",
     "text": [
      "train accuracy: 0.7146174199470814\n",
      "test accuracy: 0.719954648526077\n"
     ]
    }
   ],
   "source": [
    "stack = load('models/new_stack_10fold.pkl')\n",
    "\n",
    "S_train = stack.transform(x_train)\n",
    "S_test = stack.transform(x_test)\n",
    "\n",
    "model = load('models/new_model_10fold.pkl')\n",
    "pred_train = model.predict(S_train)\n",
    "pred_test = model.predict(S_test)\n",
    "print('train accuracy:', accuracy_score(y_train, pred_train))\n",
    "print('test accuracy:', accuracy_score(y_test, pred_test))"
   ]
  },
  {
   "cell_type": "markdown",
   "metadata": {},
   "source": [
    "### Combination"
   ]
  },
  {
   "cell_type": "code",
   "execution_count": 4,
   "metadata": {},
   "outputs": [],
   "source": [
    "estimator = [\n",
    "    ('Logistic', LogisticRegression()),\n",
    "    ('KNN', KNeighborsClassifier(19)),\n",
    "    ('SVM', SVC(C=1, gamma=0.1)),\n",
    "    ('DecisionTree', DecisionTreeClassifier(random_state = 0, max_depth = 2)),\n",
    "    ('RandomForest', RandomForestClassifier(random_state = 0, n_estimators = 300, max_depth = 10)),\n",
    "    ('NaiveBayes', BernoulliNB(alpha=1)),\n",
    "    ('XGBoost', XGBClassifier(seed = 0, n_estimators = 200, max_depth = 6, verbosity=0)),\n",
    "    ('LightGBM', LGBMClassifier(random_state=0, n_estimators = 400, max_depth = 10))]\n",
    "\n",
    "estimators = list()\n",
    "for i in range(4,len(estimator)+1):\n",
    "    estimators += list(combinations(estimator, i))"
   ]
  },
  {
   "cell_type": "code",
   "execution_count": 5,
   "metadata": {},
   "outputs": [],
   "source": [
    "stacks = [StackingTransformer(estimator, \n",
    "                            regression = False, \n",
    "                            metric = accuracy_score, \n",
    "                            n_folds = 5, stratified = True, shuffle = True, \n",
    "                            random_state = 0, verbose = 0)\n",
    "                            for estimator in estimators]"
   ]
  },
  {
   "cell_type": "code",
   "execution_count": 6,
   "metadata": {},
   "outputs": [
    {
     "name": "stderr",
     "output_type": "stream",
     "text": [
      "Stack: 100%|██████████| 163/163 [9:16:12<00:00, 204.74s/it]  \n"
     ]
    }
   ],
   "source": [
    "acc_scores = list()\n",
    "\n",
    "for stack in tqdm(stacks, desc='Stack'):\n",
    "    stack = stack.fit(x_train, y_train)\n",
    "\n",
    "    S_train = stack.transform(x_train)\n",
    "    S_test = stack.transform(x_test)\n",
    "\n",
    "    for name, model in models:\n",
    "        model.fit(S_train, y_train)\n",
    "        y_pred = model.predict(S_test)\n",
    "        acc_scores.append((accuracy_score(y_test, y_pred), (stack, model)))"
   ]
  },
  {
   "cell_type": "code",
   "execution_count": null,
   "metadata": {},
   "outputs": [],
   "source": [
    "sorted(acc_scores, key=lambda x: x[0], reverse=True)"
   ]
  },
  {
   "cell_type": "markdown",
   "metadata": {},
   "source": [
    "## Submission"
   ]
  },
  {
   "cell_type": "code",
   "execution_count": null,
   "metadata": {},
   "outputs": [
    {
     "data": {
      "text/plain": [
       "((26457, 65), (10000, 65), (26457, 1), (10000, 4))"
      ]
     },
     "metadata": {},
     "output_type": "display_data"
    }
   ],
   "source": [
    "x_train, y_train = credit_data.load_train_data(test_size=0)\n",
    "y_train = np.array(y_train[['credit']])\n",
    "x_test = credit_data.load_test_data()\n",
    "sample = pd.read_csv('original_data/sample_submission.csv')\n",
    "x_train.shape, x_test.shape, y_train.shape, sample.shape"
   ]
  },
  {
   "cell_type": "code",
   "execution_count": null,
   "metadata": {},
   "outputs": [],
   "source": [
    "stack = load('models/new_stack_10fold.pkl')\n",
    "\n",
    "S_train = stack.transform(x_train)\n",
    "S_test = stack.transform(x_test)\n",
    "\n",
    "model = load('models/new_model_10fold.pkl')\n",
    "pred_test = model.predict_proba(S_test)\n",
    "sample.iloc[:,1:] = pred_test\n",
    "sample.to_csv('credit_data/submission_new_stacking.csv',index=False)"
   ]
  },
  {
   "cell_type": "code",
   "execution_count": null,
   "metadata": {},
   "outputs": [],
   "source": []
  }
 ],
 "metadata": {
  "interpreter": {
   "hash": "b0fa6594d8f4cbf19f97940f81e996739fb7646882a419484c72d19e05852a7e"
  },
  "kernelspec": {
   "display_name": "Python 3.9.12 64-bit",
   "language": "python",
   "name": "python3"
  },
  "language_info": {
   "codemirror_mode": {
    "name": "ipython",
    "version": 3
   },
   "file_extension": ".py",
   "mimetype": "text/x-python",
   "name": "python",
   "nbconvert_exporter": "python",
   "pygments_lexer": "ipython3",
   "version": "3.9.12"
  },
  "orig_nbformat": 4
 },
 "nbformat": 4,
 "nbformat_minor": 2
}
