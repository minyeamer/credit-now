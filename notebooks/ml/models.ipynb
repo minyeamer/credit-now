{
 "cells": [
  {
   "cell_type": "markdown",
   "metadata": {},
   "source": [
    "# ML Models"
   ]
  },
  {
   "cell_type": "code",
   "execution_count": null,
   "metadata": {},
   "outputs": [],
   "source": [
    "import os\n",
    "root_dir = '../../' if os.getcwd().split('/')[-1] != 'credit-now' else './'\n",
    "os.chdir(root_dir)\n",
    "\n",
    "import warnings\n",
    "warnings.filterwarnings(\"ignore\")\n",
    "\n",
    "import numpy as np\n",
    "import pandas as pd\n",
    "import matplotlib.pyplot as plt\n",
    "\n",
    "from sklearn.metrics import accuracy_score\n",
    "from sklearn.linear_model import LogisticRegression\n",
    "from sklearn.neighbors import KNeighborsClassifier\n",
    "from sklearn.svm import SVC\n",
    "from sklearn.tree import DecisionTreeClassifier\n",
    "from sklearn.ensemble import RandomForestClassifier\n",
    "from sklearn.naive_bayes import BernoulliNB\n",
    "from xgboost import XGBClassifier\n",
    "from lightgbm.sklearn import LGBMClassifier\n",
    "from sklearn.discriminant_analysis import LinearDiscriminantAnalysis\n",
    "\n",
    "import credit_data\n",
    "from tqdm import tqdm\n",
    "from vecstack import StackingTransformer\n",
    "from itertools import combinations\n",
    "from joblib import dump, load"
   ]
  },
  {
   "cell_type": "code",
   "execution_count": 2,
   "metadata": {},
   "outputs": [
    {
     "name": "stdout",
     "output_type": "stream",
     "text": [
      "(15906, 67) (6818, 67) (15906, 1) (6818, 1)\n"
     ]
    }
   ],
   "source": [
    "x_train, x_test, y_train, y_test = credit_data.load_data()\n",
    "print(x_train.shape, x_test.shape, y_train.shape, y_test.shape)"
   ]
  },
  {
   "cell_type": "code",
   "execution_count": 3,
   "metadata": {},
   "outputs": [],
   "source": [
    "models = [\n",
    "    ('Logistic', LogisticRegression()),\n",
    "    ('KNN', KNeighborsClassifier(36)),\n",
    "    ('SVM', SVC(C=1000, gamma=0.01)),\n",
    "    ('DecisionTree', DecisionTreeClassifier(random_state = 0, max_depth = 2)),\n",
    "    ('RandomForest', RandomForestClassifier(random_state = 0, n_estimators = 100, max_depth = 6)),\n",
    "    ('NaiveBayes', BernoulliNB(alpha=10)),\n",
    "    ('XGBoost', XGBClassifier(seed = 0, n_estimators = 400, max_depth = 4, verbosity=0)),\n",
    "    ('LightGBM', LGBMClassifier(random_state=0, n_estimators = 400, max_depth = 10))]"
   ]
  },
  {
   "cell_type": "code",
   "execution_count": 4,
   "metadata": {},
   "outputs": [
    {
     "name": "stdout",
     "output_type": "stream",
     "text": [
      "Logistic:  0.6421237899677325\n",
      "KNN:  0.6472572601936052\n",
      "SVM:  0.6806981519507187\n",
      "DecisionTree:  0.6914051041361103\n",
      "RandomForest:  0.6915517747139923\n",
      "NaiveBayes:  0.6344969199178645\n",
      "XGBoost:  0.7068055148137283\n",
      "LightGBM:  0.7062188325022001\n"
     ]
    }
   ],
   "source": [
    "for name, model in models:\n",
    "    model.fit(x_train, y_train)\n",
    "    print(f'{name}: ', accuracy_score(model.predict(x_test), y_test))"
   ]
  },
  {
   "cell_type": "code",
   "execution_count": 5,
   "metadata": {},
   "outputs": [
    {
     "name": "stdout",
     "output_type": "stream",
     "text": [
      "Linear Discriminat Analysis: 0.64124376650044\n"
     ]
    }
   ],
   "source": [
    "clf = LinearDiscriminantAnalysis()\n",
    "clf.fit(x_train.todense(), y_train)\n",
    "print('Linear Discriminat Analysis:', accuracy_score(clf.predict(x_test), y_test))"
   ]
  },
  {
   "cell_type": "markdown",
   "metadata": {},
   "source": [
    "## Model Stacking"
   ]
  },
  {
   "cell_type": "markdown",
   "metadata": {},
   "source": [
    "### 5-Fold"
   ]
  },
  {
   "cell_type": "code",
   "execution_count": 6,
   "metadata": {},
   "outputs": [],
   "source": [
    "# Stacking 모델은 모든 조합에 대해 for문을 돌렸을 때 가장 높은 Accuracy가 나온 모델 조합을 선택\n",
    "estimator = [\n",
    "    ('SVM', SVC(kernel='rbf', C=1000, gamma=0.01)),\n",
    "    ('RandomForest', RandomForestClassifier(random_state = 0, n_estimators = 100, max_depth = 6)),\n",
    "    ('NaiveBayes', BernoulliNB(alpha=10)),\n",
    "    ('XGBoost', XGBClassifier(seed = 0, n_estimators = 400, max_depth = 4, verbosity=0))]"
   ]
  },
  {
   "cell_type": "code",
   "execution_count": 7,
   "metadata": {},
   "outputs": [],
   "source": [
    "stack = StackingTransformer(estimator, \n",
    "                            regression = False, \n",
    "                            metric = accuracy_score, \n",
    "                            n_folds = 5, stratified = True, shuffle = True, \n",
    "                            random_state = 0, verbose = 0)"
   ]
  },
  {
   "cell_type": "code",
   "execution_count": 8,
   "metadata": {},
   "outputs": [
    {
     "data": {
      "text/plain": [
       "0.7100322675271341"
      ]
     },
     "execution_count": 8,
     "metadata": {},
     "output_type": "execute_result"
    }
   ],
   "source": [
    "stack = stack.fit(x_train, y_train)\n",
    "\n",
    "S_train = stack.transform(x_train)\n",
    "S_test = stack.transform(x_test)\n",
    "\n",
    "model = XGBClassifier(seed = 0, n_estimators = 400, max_depth = 4, verbosity=0)\n",
    "model = model.fit(S_train, y_train)\n",
    "y_pred = model.predict(S_test)\n",
    "accuracy_score(y_test, y_pred)"
   ]
  },
  {
   "cell_type": "code",
   "execution_count": null,
   "metadata": {},
   "outputs": [],
   "source": [
    "dump(stack, 'models/stack_5fold.pkl')\n",
    "dump(model, 'models/model_5fold.pkl')"
   ]
  },
  {
   "cell_type": "code",
   "execution_count": 18,
   "metadata": {},
   "outputs": [
    {
     "name": "stdout",
     "output_type": "stream",
     "text": [
      "train accuracy: 0.703005155287313\n",
      "test accuracy: 0.7100322675271341\n"
     ]
    }
   ],
   "source": [
    "stack = load('models/stack_5fold.pkl')\n",
    "\n",
    "S_train = stack.transform(x_train)\n",
    "S_test = stack.transform(x_test)\n",
    "\n",
    "model = load('models/model_5fold.pkl')\n",
    "pred_train = model.predict(S_train)\n",
    "pred_test = model.predict(S_test)\n",
    "print('train accuracy:', accuracy_score(y_train, pred_train))\n",
    "print('test accuracy:', accuracy_score(y_test, pred_test))"
   ]
  },
  {
   "cell_type": "markdown",
   "metadata": {},
   "source": [
    "### 10-Fold"
   ]
  },
  {
   "cell_type": "code",
   "execution_count": 12,
   "metadata": {},
   "outputs": [],
   "source": [
    "# Stacking 모델은 모든 조합에 대해 for문을 돌렸을 때 가장 높은 Accuracy가 나온 모델 조합을 선택\n",
    "estimator = [\n",
    "    ('KNN', KNeighborsClassifier(36)),\n",
    "    ('SVM', SVC(kernel='rbf', C=1000, gamma=0.01)),\n",
    "    ('RandomForest', RandomForestClassifier(random_state = 0, n_estimators = 100, max_depth = 6)),\n",
    "    ('NaiveBayes', BernoulliNB(alpha=10)),\n",
    "    ('XGBoost', XGBClassifier(seed = 0, n_estimators = 400, max_depth = 4, verbosity=0)),\n",
    "    ('LightGBM', LGBMClassifier(random_state=0, n_estimators = 400, max_depth = 10))]"
   ]
  },
  {
   "cell_type": "code",
   "execution_count": 13,
   "metadata": {},
   "outputs": [],
   "source": [
    "stack = StackingTransformer(estimator, \n",
    "                            regression = False, \n",
    "                            metric = accuracy_score, \n",
    "                            n_folds = 10, stratified = True, shuffle = True, \n",
    "                            random_state = 0, verbose = 0)"
   ]
  },
  {
   "cell_type": "code",
   "execution_count": 14,
   "metadata": {},
   "outputs": [
    {
     "data": {
      "text/plain": [
       "0.7119389850396011"
      ]
     },
     "execution_count": 14,
     "metadata": {},
     "output_type": "execute_result"
    }
   ],
   "source": [
    "stack = stack.fit(x_train, y_train)\n",
    "\n",
    "S_train = stack.transform(x_train)\n",
    "S_test = stack.transform(x_test)\n",
    "\n",
    "model = RandomForestClassifier(random_state = 0, n_estimators = 100, max_depth = 6)\n",
    "model = model.fit(S_train, y_train)\n",
    "y_pred = model.predict(S_test)\n",
    "accuracy_score(y_test, y_pred)"
   ]
  },
  {
   "cell_type": "code",
   "execution_count": null,
   "metadata": {},
   "outputs": [],
   "source": [
    "dump(stack, 'models/stack_10fold.pkl')\n",
    "dump(model, 'models/model_10fold.pkl')"
   ]
  },
  {
   "cell_type": "code",
   "execution_count": 20,
   "metadata": {},
   "outputs": [
    {
     "name": "stdout",
     "output_type": "stream",
     "text": [
      "train accuracy: 0.7100465233245317\n",
      "test accuracy: 0.7119389850396011\n"
     ]
    }
   ],
   "source": [
    "stack = load('models/stack_10fold.pkl')\n",
    "\n",
    "S_train = stack.transform(x_train)\n",
    "S_test = stack.transform(x_test)\n",
    "\n",
    "model = load('models/model_10fold.pkl')\n",
    "pred_train = model.predict(S_train)\n",
    "pred_test = model.predict(S_test)\n",
    "print('train accuracy:', accuracy_score(y_train, pred_train))\n",
    "print('test accuracy:', accuracy_score(y_test, pred_test))"
   ]
  },
  {
   "cell_type": "markdown",
   "metadata": {},
   "source": [
    "### Combination"
   ]
  },
  {
   "cell_type": "code",
   "execution_count": 15,
   "metadata": {},
   "outputs": [],
   "source": [
    "estimator = [\n",
    "    ('Logistic', LogisticRegression()),\n",
    "    ('KNN', KNeighborsClassifier(36)),\n",
    "    ('SVM', SVC(kernel='rbf', C=1000, gamma=0.01)),\n",
    "    ('DecisionTree', DecisionTreeClassifier(random_state = 0, max_depth = 2)),\n",
    "    ('RandomForest', RandomForestClassifier(random_state = 0, n_estimators = 100, max_depth = 6)),\n",
    "    ('NaiveBayes', BernoulliNB(alpha=10)),\n",
    "    ('XGBoost', XGBClassifier(seed = 0, n_estimators = 400, max_depth = 4, verbosity=0)),\n",
    "    ('LightGBM', LGBMClassifier(random_state=0, n_estimators = 400, max_depth = 10))]\n",
    "\n",
    "estimators = list()\n",
    "for i in range(2,len(estimator)+1):\n",
    "    estimators += list(combinations(estimator, i))"
   ]
  },
  {
   "cell_type": "code",
   "execution_count": 16,
   "metadata": {},
   "outputs": [],
   "source": [
    "stacks = [StackingTransformer(estimator, \n",
    "                            regression = False, \n",
    "                            metric = accuracy_score, \n",
    "                            n_folds = 10, stratified = True, shuffle = True, \n",
    "                            random_state = 0, verbose = 0)\n",
    "                            for estimator in estimators]"
   ]
  },
  {
   "cell_type": "code",
   "execution_count": 17,
   "metadata": {},
   "outputs": [
    {
     "name": "stderr",
     "output_type": "stream",
     "text": [
      "Stack: 100%|██████████| 247/247 [27:36:04<00:00, 402.29s/it]    \n"
     ]
    }
   ],
   "source": [
    "acc_scores = list()\n",
    "\n",
    "for stack in tqdm(stacks, desc='Stack'):\n",
    "    stack = stack.fit(x_train, y_train)\n",
    "\n",
    "    S_train = stack.transform(x_train)\n",
    "    S_test = stack.transform(x_test)\n",
    "\n",
    "    for name, model in models:\n",
    "        model.fit(S_train, y_train)\n",
    "        y_pred = model.predict(S_test)\n",
    "        acc_scores.append((accuracy_score(y_test, y_pred), (stack, model)))"
   ]
  },
  {
   "cell_type": "code",
   "execution_count": null,
   "metadata": {},
   "outputs": [],
   "source": [
    "sorted(acc_scores, key=lambda x: x[0], reverse=True)"
   ]
  },
  {
   "cell_type": "markdown",
   "metadata": {},
   "source": [
    "## Submission"
   ]
  },
  {
   "cell_type": "code",
   "execution_count": null,
   "metadata": {},
   "outputs": [],
   "source": [
    "x_train, y_train = credit_data.load_train_data(test_size=0)\n",
    "x_test = credit_data.load_test_data() # old data의 경우 전처리 별도 진행\n",
    "sub = pd.read_csv('original_data/sample_submission.csv')\n",
    "\n",
    "stack = load('models/stack_10fold.pkl')\n",
    "\n",
    "S_train = stack.transform(x_train)\n",
    "S_test = stack.transform(x_test)\n",
    "\n",
    "model = load('models/model_10fold.pkl')\n",
    "pred_train = model.predict(S_train)\n",
    "pred_test = model.predict(S_test)\n",
    "\n",
    "pred_test = model.predict_proba(S_test)\n",
    "sub.iloc[:,1:] = pred_test\n",
    "sub.to_csv('credit_data/submission_stacking.csv',index=False)"
   ]
  },
  {
   "cell_type": "code",
   "execution_count": null,
   "metadata": {},
   "outputs": [],
   "source": []
  }
 ],
 "metadata": {
  "interpreter": {
   "hash": "b0fa6594d8f4cbf19f97940f81e996739fb7646882a419484c72d19e05852a7e"
  },
  "kernelspec": {
   "display_name": "Python 3.9.12 64-bit",
   "language": "python",
   "name": "python3"
  },
  "language_info": {
   "codemirror_mode": {
    "name": "ipython",
    "version": 3
   },
   "file_extension": ".py",
   "mimetype": "text/x-python",
   "name": "python",
   "nbconvert_exporter": "python",
   "pygments_lexer": "ipython3",
   "version": "3.9.12"
  },
  "orig_nbformat": 4
 },
 "nbformat": 4,
 "nbformat_minor": 2
}
