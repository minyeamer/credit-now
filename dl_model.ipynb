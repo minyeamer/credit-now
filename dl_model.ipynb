{
 "cells": [
  {
   "cell_type": "code",
   "execution_count": 1,
   "metadata": {},
   "outputs": [],
   "source": [
    "import numpy as np\n",
    "import pandas as pd\n",
    "import matplotlib.pyplot as plt\n",
    "\n",
    "import tensorflow as tf\n",
    "from tensorflow.keras import datasets, utils\n",
    "from tensorflow.keras import models, layers, activations, initializers, losses, optimizers, metrics\n",
    "\n",
    "import credit_data\n",
    "import visualkeras\n",
    "\n",
    "import os\n",
    "os.environ['TF_CPP_MIN_LOG_LEVEL'] = '2'"
   ]
  },
  {
   "cell_type": "code",
   "execution_count": 2,
   "metadata": {},
   "outputs": [
    {
     "name": "stdout",
     "output_type": "stream",
     "text": [
      "(15906, 67) (6818, 67) (15906, 3) (6818, 3)\n"
     ]
    }
   ],
   "source": [
    "train_data, test_data, train_label, test_label = credit_data.load_data()\n",
    "\n",
    "train_data = train_data.todense()\n",
    "test_data = test_data.todense()\n",
    "train_label = utils.to_categorical(train_label)\n",
    "test_label = utils.to_categorical(test_label)\n",
    "\n",
    "print(train_data.shape, test_data.shape, train_label.shape, test_label.shape)"
   ]
  },
  {
   "cell_type": "code",
   "execution_count": 3,
   "metadata": {},
   "outputs": [
    {
     "name": "stdout",
     "output_type": "stream",
     "text": [
      "Metal device set to: Apple M1\n",
      "\n",
      "systemMemory: 8.00 GB\n",
      "maxCacheSize: 2.67 GB\n",
      "\n"
     ]
    }
   ],
   "source": [
    "model = models.Sequential()\n",
    "\n",
    "model.add(layers.Dense(input_dim=67, units=256, activation=None, kernel_initializer=initializers.he_uniform()))\n",
    "model.add(layers.Activation('elu'))\n",
    "\n",
    "model.add(layers.Dense(units=512, activation=None, kernel_initializer=initializers.he_uniform())) \n",
    "model.add(layers.Activation('elu')) \n",
    "\n",
    "model.add(layers.Dense(units=512, activation=None, kernel_initializer=initializers.he_uniform())) \n",
    "model.add(layers.Activation('elu'))\n",
    "\n",
    "model.add(layers.Dense(units=256, activation=None, kernel_initializer=initializers.he_uniform())) \n",
    "model.add(layers.Activation('elu')) \n",
    "model.add(layers.Dropout(rate=0.5))\n",
    "\n",
    "model.add(layers.Dense(units=3, activation='softmax'))"
   ]
  },
  {
   "cell_type": "code",
   "execution_count": 4,
   "metadata": {},
   "outputs": [],
   "source": [
    "model.compile(optimizer=optimizers.Adam(),\n",
    "            loss=losses.categorical_crossentropy, \n",
    "            metrics=[metrics.categorical_accuracy])"
   ]
  },
  {
   "cell_type": "code",
   "execution_count": 5,
   "metadata": {},
   "outputs": [
    {
     "name": "stdout",
     "output_type": "stream",
     "text": [
      "Epoch 1/10\n",
      "112/112 [==============================] - 3s 25ms/step - loss: 1.1481 - categorical_accuracy: 0.5848 - val_loss: 0.9052 - val_categorical_accuracy: 0.6415\n",
      "Epoch 2/10\n",
      "112/112 [==============================] - 3s 23ms/step - loss: 0.9185 - categorical_accuracy: 0.6341 - val_loss: 0.9008 - val_categorical_accuracy: 0.6555\n",
      "Epoch 3/10\n",
      "112/112 [==============================] - 3s 25ms/step - loss: 0.8788 - categorical_accuracy: 0.6581 - val_loss: 0.8630 - val_categorical_accuracy: 0.6635\n",
      "Epoch 4/10\n",
      "112/112 [==============================] - 2s 21ms/step - loss: 0.8525 - categorical_accuracy: 0.6701 - val_loss: 0.8726 - val_categorical_accuracy: 0.6572\n",
      "Epoch 5/10\n",
      "112/112 [==============================] - 3s 22ms/step - loss: 0.8411 - categorical_accuracy: 0.6753 - val_loss: 0.8419 - val_categorical_accuracy: 0.6783\n",
      "Epoch 6/10\n",
      "112/112 [==============================] - 3s 26ms/step - loss: 0.8305 - categorical_accuracy: 0.6768 - val_loss: 0.8738 - val_categorical_accuracy: 0.6609\n",
      "Epoch 7/10\n",
      "112/112 [==============================] - 2s 21ms/step - loss: 0.8240 - categorical_accuracy: 0.6805 - val_loss: 0.8591 - val_categorical_accuracy: 0.6716\n",
      "Epoch 8/10\n",
      "112/112 [==============================] - 3s 24ms/step - loss: 0.8126 - categorical_accuracy: 0.6874 - val_loss: 0.8607 - val_categorical_accuracy: 0.6783\n",
      "Epoch 9/10\n",
      "112/112 [==============================] - 3s 25ms/step - loss: 0.8128 - categorical_accuracy: 0.6835 - val_loss: 0.8501 - val_categorical_accuracy: 0.6733\n",
      "Epoch 10/10\n",
      "112/112 [==============================] - 2s 22ms/step - loss: 0.8068 - categorical_accuracy: 0.6873 - val_loss: 0.8475 - val_categorical_accuracy: 0.6760\n"
     ]
    }
   ],
   "source": [
    "history = model.fit(train_data, train_label, batch_size=100, epochs=10, validation_split=0.3)"
   ]
  },
  {
   "cell_type": "code",
   "execution_count": 6,
   "metadata": {},
   "outputs": [
    {
     "name": "stdout",
     "output_type": "stream",
     "text": [
      "214/214 [==============================] - 2s 10ms/step - loss: 0.8286 - categorical_accuracy: 0.6817\n",
      "loss (cross-entropy) : 0.8286137580871582\n",
      "test accuracy : 0.6817249059677124\n"
     ]
    }
   ],
   "source": [
    "result = model.evaluate(test_data, test_label)\n",
    "\n",
    "print('loss (cross-entropy) :', result[0])\n",
    "print('test accuracy :', result[1])"
   ]
  },
  {
   "cell_type": "code",
   "execution_count": 7,
   "metadata": {},
   "outputs": [
    {
     "data": {
      "image/png": "[encoded data removed]",
      "text/plain": [
       "<PIL.Image.Image image mode=RGBA size=470x63>"
      ]
     },
     "execution_count": 7,
     "metadata": {},
     "output_type": "execute_result"
    }
   ],
   "source": [
    "visualkeras.layered_view(model, legend=True)"
   ]
  },
  {
   "cell_type": "code",
   "execution_count": 8,
   "metadata": {},
   "outputs": [
    {
     "data": {
      "image/png": "[encoded data removed]",
      "text/plain": [
       "<Figure size 432x288 with 1 Axes>"
      ]
     },
     "metadata": {
      "needs_background": "light"
     },
     "output_type": "display_data"
    }
   ],
   "source": [
    "acc = history.history['categorical_accuracy']\n",
    "val_acc = history.history['val_categorical_accuracy']\n",
    "\n",
    "x_len = np.arange(len(acc))\n",
    "\n",
    "plt.plot(x_len, acc, marker='.', c='blue', label=\"Train-set Acc.\")\n",
    "plt.plot(x_len, val_acc, marker='.', c='red', label=\"Validation-set Acc.\")\n",
    "\n",
    "plt.legend(loc='upper right')\n",
    "plt.grid()\n",
    "plt.xlabel('epoch')\n",
    "plt.ylabel('Accuracy')\n",
    "plt.show()"
   ]
  },
  {
   "cell_type": "code",
   "execution_count": null,
   "metadata": {},
   "outputs": [],
   "source": []
  }
 ],
 "metadata": {
  "interpreter": {
   "hash": "c6e4e9f98eb68ad3b7c296f83d20e6de614cb42e90992a65aa266555a3137d0d"
  },
  "kernelspec": {
   "display_name": "Python 3.9.10",
   "language": "python",
   "name": "python3"
  },
  "language_info": {
   "codemirror_mode": {
    "name": "ipython",
    "version": 3
   },
   "file_extension": ".py",
   "mimetype": "text/x-python",
   "name": "python",
   "nbconvert_exporter": "python",
   "pygments_lexer": "ipython3",
   "version": "3.9.10"
  },
  "orig_nbformat": 4
 },
 "nbformat": 4,
 "nbformat_minor": 2
}
