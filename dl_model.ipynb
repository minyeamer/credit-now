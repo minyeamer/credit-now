{
 "cells": [
  {
   "cell_type": "markdown",
   "metadata": {},
   "source": [
    "# DL Models"
   ]
  },
  {
   "cell_type": "code",
   "execution_count": 1,
   "metadata": {},
   "outputs": [],
   "source": [
    "import numpy as np\n",
    "import pandas as pd\n",
    "import matplotlib.pyplot as plt\n",
    "\n",
    "import tensorflow as tf\n",
    "from tensorflow.keras import datasets, utils\n",
    "from tensorflow.keras import models, layers, activations, initializers, losses, optimizers, metrics\n",
    "\n",
    "import credit_data\n",
    "import visualkeras\n",
    "\n",
    "import os\n",
    "os.environ['TF_CPP_MIN_LOG_LEVEL'] = '2'"
   ]
  },
  {
   "cell_type": "code",
   "execution_count": 2,
   "metadata": {},
   "outputs": [
    {
     "name": "stdout",
     "output_type": "stream",
     "text": [
      "(15906, 67) (6818, 67) (15906, 3) (6818, 3)\n"
     ]
    }
   ],
   "source": [
    "train_data, test_data, train_label, test_label = credit_data.load_data()\n",
    "\n",
    "train_data = train_data.todense()\n",
    "test_data = test_data.todense()\n",
    "train_label = utils.to_categorical(train_label)\n",
    "test_label = utils.to_categorical(test_label)\n",
    "\n",
    "print(train_data.shape, test_data.shape, train_label.shape, test_label.shape)"
   ]
  },
  {
   "cell_type": "code",
   "execution_count": 3,
   "metadata": {},
   "outputs": [
    {
     "name": "stdout",
     "output_type": "stream",
     "text": [
      "Metal device set to: Apple M1\n",
      "\n",
      "systemMemory: 8.00 GB\n",
      "maxCacheSize: 2.67 GB\n",
      "\n"
     ]
    }
   ],
   "source": [
    "model = models.Sequential()\n",
    "\n",
    "model.add(layers.Dense(input_dim=67, units=256, activation=None, kernel_initializer=initializers.he_uniform()))\n",
    "model.add(layers.Activation('elu'))\n",
    "\n",
    "model.add(layers.Dense(units=512, activation=None, kernel_initializer=initializers.he_uniform())) \n",
    "model.add(layers.Activation('elu')) \n",
    "\n",
    "model.add(layers.Dense(units=512, activation=None, kernel_initializer=initializers.he_uniform())) \n",
    "model.add(layers.Activation('elu'))\n",
    "\n",
    "model.add(layers.Dense(units=256, activation=None, kernel_initializer=initializers.he_uniform())) \n",
    "model.add(layers.Activation('elu')) \n",
    "model.add(layers.Dropout(rate=0.5))\n",
    "\n",
    "model.add(layers.Dense(units=3, activation='softmax'))"
   ]
  },
  {
   "cell_type": "code",
   "execution_count": 4,
   "metadata": {},
   "outputs": [],
   "source": [
    "model.compile(optimizer=optimizers.Adam(),\n",
    "            loss=losses.categorical_crossentropy, \n",
    "            metrics=[metrics.categorical_accuracy])"
   ]
  },
  {
   "cell_type": "code",
   "execution_count": 5,
   "metadata": {},
   "outputs": [
    {
     "name": "stdout",
     "output_type": "stream",
     "text": [
      "Epoch 1/10\n",
      "112/112 [==============================] - 3s 24ms/step - loss: 1.1412 - categorical_accuracy: 0.5780 - val_loss: 0.9173 - val_categorical_accuracy: 0.6523\n",
      "Epoch 2/10\n",
      "112/112 [==============================] - 3s 23ms/step - loss: 0.9351 - categorical_accuracy: 0.6316 - val_loss: 0.8616 - val_categorical_accuracy: 0.6666\n",
      "Epoch 3/10\n",
      "112/112 [==============================] - 3s 29ms/step - loss: 0.8762 - categorical_accuracy: 0.6573 - val_loss: 0.8774 - val_categorical_accuracy: 0.6658\n",
      "Epoch 4/10\n",
      "112/112 [==============================] - 3s 25ms/step - loss: 0.8540 - categorical_accuracy: 0.6725 - val_loss: 0.8731 - val_categorical_accuracy: 0.6714\n",
      "Epoch 5/10\n",
      "112/112 [==============================] - 3s 23ms/step - loss: 0.8424 - categorical_accuracy: 0.6760 - val_loss: 0.8531 - val_categorical_accuracy: 0.6714\n",
      "Epoch 6/10\n",
      "112/112 [==============================] - 2s 22ms/step - loss: 0.8333 - categorical_accuracy: 0.6788 - val_loss: 0.8449 - val_categorical_accuracy: 0.6729\n",
      "Epoch 7/10\n",
      "112/112 [==============================] - 2s 22ms/step - loss: 0.8267 - categorical_accuracy: 0.6795 - val_loss: 0.8430 - val_categorical_accuracy: 0.6731\n",
      "Epoch 8/10\n",
      "112/112 [==============================] - 2s 22ms/step - loss: 0.8201 - categorical_accuracy: 0.6838 - val_loss: 0.8476 - val_categorical_accuracy: 0.6735\n",
      "Epoch 9/10\n",
      "112/112 [==============================] - 2s 22ms/step - loss: 0.8127 - categorical_accuracy: 0.6845 - val_loss: 0.8526 - val_categorical_accuracy: 0.6697\n",
      "Epoch 10/10\n",
      "112/112 [==============================] - 2s 22ms/step - loss: 0.8084 - categorical_accuracy: 0.6856 - val_loss: 0.8496 - val_categorical_accuracy: 0.6754\n"
     ]
    }
   ],
   "source": [
    "history = model.fit(train_data, train_label, batch_size=100, epochs=10, validation_split=0.3)"
   ]
  },
  {
   "cell_type": "code",
   "execution_count": 6,
   "metadata": {},
   "outputs": [
    {
     "name": "stdout",
     "output_type": "stream",
     "text": [
      "214/214 [==============================] - 2s 11ms/step - loss: 0.8268 - categorical_accuracy: 0.6854\n",
      "loss (cross-entropy) : 0.8267838954925537\n",
      "test accuracy : 0.6853916645050049\n"
     ]
    }
   ],
   "source": [
    "result = model.evaluate(test_data, test_label)\n",
    "\n",
    "print('loss (cross-entropy) :', result[0])\n",
    "print('test accuracy :', result[1])"
   ]
  },
  {
   "cell_type": "code",
   "execution_count": 7,
   "metadata": {},
   "outputs": [
    {
     "data": {
      "image/png": "[encoded data removed]",
      "text/plain": [
       "<PIL.Image.Image image mode=RGBA size=470x63>"
      ]
     },
     "execution_count": 7,
     "metadata": {},
     "output_type": "execute_result"
    }
   ],
   "source": [
    "visualkeras.layered_view(model, legend=True)"
   ]
  },
  {
   "cell_type": "code",
   "execution_count": 8,
   "metadata": {},
   "outputs": [
    {
     "data": {
      "image/png": "[encoded data removed]",
      "text/plain": [
       "<Figure size 432x288 with 1 Axes>"
      ]
     },
     "metadata": {
      "needs_background": "light"
     },
     "output_type": "display_data"
    }
   ],
   "source": [
    "acc = history.history['categorical_accuracy']\n",
    "val_acc = history.history['val_categorical_accuracy']\n",
    "\n",
    "x_len = np.arange(len(acc))\n",
    "\n",
    "plt.plot(x_len, acc, marker='.', c='blue', label=\"Train-set Acc.\")\n",
    "plt.plot(x_len, val_acc, marker='.', c='red', label=\"Validation-set Acc.\")\n",
    "\n",
    "plt.legend(loc='upper right')\n",
    "plt.grid()\n",
    "plt.xlabel('epoch')\n",
    "plt.ylabel('Accuracy')\n",
    "plt.show()"
   ]
  },
  {
   "cell_type": "markdown",
   "metadata": {},
   "source": [
    "## All Category"
   ]
  },
  {
   "cell_type": "code",
   "execution_count": 9,
   "metadata": {},
   "outputs": [
    {
     "name": "stdout",
     "output_type": "stream",
     "text": [
      "(15906, 103) (6818, 103) (15906, 3) (6818, 3)\n"
     ]
    }
   ],
   "source": [
    "train_data, test_data, train_label, test_label = credit_data.load_data('train_cat')\n",
    "\n",
    "train_data = train_data.todense()\n",
    "test_data = test_data.todense()\n",
    "train_label = utils.to_categorical(train_label)\n",
    "test_label = utils.to_categorical(test_label)\n",
    "\n",
    "print(train_data.shape, test_data.shape, train_label.shape, test_label.shape)"
   ]
  },
  {
   "cell_type": "code",
   "execution_count": 10,
   "metadata": {},
   "outputs": [
    {
     "name": "stdout",
     "output_type": "stream",
     "text": [
      "Epoch 1/10\n",
      "112/112 [==============================] - 3s 26ms/step - loss: 1.0660 - categorical_accuracy: 0.5939 - val_loss: 0.8887 - val_categorical_accuracy: 0.6544\n",
      "Epoch 2/10\n",
      "112/112 [==============================] - 3s 24ms/step - loss: 0.9160 - categorical_accuracy: 0.6392 - val_loss: 0.9037 - val_categorical_accuracy: 0.6530\n",
      "Epoch 3/10\n",
      "112/112 [==============================] - 3s 24ms/step - loss: 0.8729 - categorical_accuracy: 0.6631 - val_loss: 0.8713 - val_categorical_accuracy: 0.6593\n",
      "Epoch 4/10\n",
      "112/112 [==============================] - 3s 28ms/step - loss: 0.8577 - categorical_accuracy: 0.6636 - val_loss: 0.8719 - val_categorical_accuracy: 0.6620\n",
      "Epoch 5/10\n",
      "112/112 [==============================] - 3s 28ms/step - loss: 0.8393 - categorical_accuracy: 0.6714 - val_loss: 0.8641 - val_categorical_accuracy: 0.6616\n",
      "Epoch 6/10\n",
      "112/112 [==============================] - 3s 29ms/step - loss: 0.8298 - categorical_accuracy: 0.6697 - val_loss: 0.8572 - val_categorical_accuracy: 0.6649\n",
      "Epoch 7/10\n",
      "112/112 [==============================] - 3s 27ms/step - loss: 0.8193 - categorical_accuracy: 0.6749 - val_loss: 0.8669 - val_categorical_accuracy: 0.6632\n",
      "Epoch 8/10\n",
      "112/112 [==============================] - 3s 23ms/step - loss: 0.8151 - categorical_accuracy: 0.6757 - val_loss: 0.8820 - val_categorical_accuracy: 0.6582\n",
      "Epoch 9/10\n",
      "112/112 [==============================] - 3s 23ms/step - loss: 0.8047 - categorical_accuracy: 0.6762 - val_loss: 0.8659 - val_categorical_accuracy: 0.6622\n",
      "Epoch 10/10\n",
      "112/112 [==============================] - 2s 22ms/step - loss: 0.7952 - categorical_accuracy: 0.6828 - val_loss: 0.8700 - val_categorical_accuracy: 0.6557\n",
      "214/214 [==============================] - 2s 11ms/step - loss: 0.8421 - categorical_accuracy: 0.6666\n",
      "loss (cross-entropy) : 0.8421252369880676\n",
      "test accuracy : 0.6666178107261658\n"
     ]
    }
   ],
   "source": [
    "model = models.Sequential()\n",
    "\n",
    "model.add(layers.Dense(input_dim=103, units=256, activation=None, kernel_initializer=initializers.he_uniform()))\n",
    "model.add(layers.Activation('elu'))\n",
    "\n",
    "model.add(layers.Dense(units=512, activation=None, kernel_initializer=initializers.he_uniform())) \n",
    "model.add(layers.Activation('elu')) \n",
    "\n",
    "model.add(layers.Dense(units=512, activation=None, kernel_initializer=initializers.he_uniform())) \n",
    "model.add(layers.Activation('elu'))\n",
    "\n",
    "model.add(layers.Dense(units=256, activation=None, kernel_initializer=initializers.he_uniform())) \n",
    "model.add(layers.Activation('elu')) \n",
    "model.add(layers.Dropout(rate=0.5))\n",
    "\n",
    "model.add(layers.Dense(units=3, activation='softmax'))\n",
    "\n",
    "model.compile(optimizer=optimizers.Adam(),\n",
    "            loss=losses.categorical_crossentropy, \n",
    "            metrics=[metrics.categorical_accuracy])\n",
    "\n",
    "history = model.fit(train_data, train_label, batch_size=100, epochs=10, validation_split=0.3)\n",
    "\n",
    "result = model.evaluate(test_data, test_label)\n",
    "\n",
    "print('loss (cross-entropy) :', result[0])\n",
    "print('test accuracy :', result[1])"
   ]
  },
  {
   "cell_type": "code",
   "execution_count": 11,
   "metadata": {},
   "outputs": [
    {
     "data": {
      "image/png": "[encoded data removed]",
      "text/plain": [
       "<Figure size 432x288 with 1 Axes>"
      ]
     },
     "metadata": {
      "needs_background": "light"
     },
     "output_type": "display_data"
    }
   ],
   "source": [
    "acc = history.history['categorical_accuracy']\n",
    "val_acc = history.history['val_categorical_accuracy']\n",
    "\n",
    "x_len = np.arange(len(acc))\n",
    "\n",
    "plt.plot(x_len, acc, marker='.', c='blue', label=\"Train-set Acc.\")\n",
    "plt.plot(x_len, val_acc, marker='.', c='red', label=\"Validation-set Acc.\")\n",
    "\n",
    "plt.legend(loc='upper right')\n",
    "plt.grid()\n",
    "plt.xlabel('epoch')\n",
    "plt.ylabel('Accuracy')\n",
    "plt.show()"
   ]
  },
  {
   "cell_type": "code",
   "execution_count": 17,
   "metadata": {},
   "outputs": [
    {
     "name": "stdout",
     "output_type": "stream",
     "text": [
      "(15906, 323) (6818, 323) (15906, 3) (6818, 3)\n"
     ]
    }
   ],
   "source": [
    "train_data, test_data, train_label, test_label = credit_data.load_data('train_cat', encoding=False)\n",
    "\n",
    "train_data = utils.to_categorical(train_data).reshape(15906, 17*19)\n",
    "test_data = utils.to_categorical(test_data).reshape(6818, 17*19)\n",
    "train_label = utils.to_categorical(train_label)\n",
    "test_label = utils.to_categorical(test_label)\n",
    "\n",
    "print(train_data.shape, test_data.shape, train_label.shape, test_label.shape)"
   ]
  },
  {
   "cell_type": "code",
   "execution_count": 18,
   "metadata": {},
   "outputs": [
    {
     "name": "stdout",
     "output_type": "stream",
     "text": [
      "Epoch 1/10\n",
      "112/112 [==============================] - 3s 27ms/step - loss: 1.0022 - categorical_accuracy: 0.6124 - val_loss: 0.8872 - val_categorical_accuracy: 0.6565\n",
      "Epoch 2/10\n",
      "112/112 [==============================] - 3s 27ms/step - loss: 0.9021 - categorical_accuracy: 0.6451 - val_loss: 0.8753 - val_categorical_accuracy: 0.6614\n",
      "Epoch 3/10\n",
      "112/112 [==============================] - 3s 27ms/step - loss: 0.8741 - categorical_accuracy: 0.6631 - val_loss: 0.8645 - val_categorical_accuracy: 0.6591\n",
      "Epoch 4/10\n",
      "112/112 [==============================] - 3s 25ms/step - loss: 0.8583 - categorical_accuracy: 0.6675 - val_loss: 0.8623 - val_categorical_accuracy: 0.6567\n",
      "Epoch 5/10\n",
      "112/112 [==============================] - 3s 25ms/step - loss: 0.8414 - categorical_accuracy: 0.6691 - val_loss: 0.8601 - val_categorical_accuracy: 0.6668\n",
      "Epoch 6/10\n",
      "112/112 [==============================] - 3s 23ms/step - loss: 0.8367 - categorical_accuracy: 0.6710 - val_loss: 0.8616 - val_categorical_accuracy: 0.6578\n",
      "Epoch 7/10\n",
      "112/112 [==============================] - 3s 24ms/step - loss: 0.8319 - categorical_accuracy: 0.6721 - val_loss: 0.8655 - val_categorical_accuracy: 0.6553\n",
      "Epoch 8/10\n",
      "112/112 [==============================] - 3s 24ms/step - loss: 0.8291 - categorical_accuracy: 0.6719 - val_loss: 0.8680 - val_categorical_accuracy: 0.6660\n",
      "Epoch 9/10\n",
      "112/112 [==============================] - 3s 24ms/step - loss: 0.8227 - categorical_accuracy: 0.6745 - val_loss: 0.8666 - val_categorical_accuracy: 0.6574\n",
      "Epoch 10/10\n",
      "112/112 [==============================] - 3s 23ms/step - loss: 0.8139 - categorical_accuracy: 0.6777 - val_loss: 0.8657 - val_categorical_accuracy: 0.6630\n",
      "214/214 [==============================] - 2s 10ms/step - loss: 0.8380 - categorical_accuracy: 0.6757\n",
      "loss (cross-entropy) : 0.8380271792411804\n",
      "test accuracy : 0.6757113933563232\n"
     ]
    }
   ],
   "source": [
    "model = models.Sequential()\n",
    "\n",
    "model.add(layers.Dense(input_dim=17*19, units=256, activation=None, kernel_initializer=initializers.he_uniform()))\n",
    "model.add(layers.Activation('elu'))\n",
    "\n",
    "model.add(layers.Dense(units=512, activation=None, kernel_initializer=initializers.he_uniform())) \n",
    "model.add(layers.Activation('elu')) \n",
    "\n",
    "model.add(layers.Dense(units=512, activation=None, kernel_initializer=initializers.he_uniform())) \n",
    "model.add(layers.Activation('elu'))\n",
    "\n",
    "model.add(layers.Dense(units=256, activation=None, kernel_initializer=initializers.he_uniform())) \n",
    "model.add(layers.Activation('elu')) \n",
    "model.add(layers.Dropout(rate=0.5))\n",
    "\n",
    "model.add(layers.Dense(units=3, activation='softmax'))\n",
    "\n",
    "model.compile(optimizer=optimizers.Adam(),\n",
    "            loss=losses.categorical_crossentropy, \n",
    "            metrics=[metrics.categorical_accuracy])\n",
    "\n",
    "history = model.fit(train_data, train_label, batch_size=100, epochs=10, validation_split=0.3)\n",
    "\n",
    "result = model.evaluate(test_data, test_label)\n",
    "\n",
    "print('loss (cross-entropy) :', result[0])\n",
    "print('test accuracy :', result[1])"
   ]
  },
  {
   "cell_type": "code",
   "execution_count": 19,
   "metadata": {},
   "outputs": [
    {
     "data": {
      "image/png": "[encoded data removed]",
      "text/plain": [
       "<Figure size 432x288 with 1 Axes>"
      ]
     },
     "metadata": {
      "needs_background": "light"
     },
     "output_type": "display_data"
    }
   ],
   "source": [
    "acc = history.history['categorical_accuracy']\n",
    "val_acc = history.history['val_categorical_accuracy']\n",
    "\n",
    "x_len = np.arange(len(acc))\n",
    "\n",
    "plt.plot(x_len, acc, marker='.', c='blue', label=\"Train-set Acc.\")\n",
    "plt.plot(x_len, val_acc, marker='.', c='red', label=\"Validation-set Acc.\")\n",
    "\n",
    "plt.legend(loc='upper right')\n",
    "plt.grid()\n",
    "plt.xlabel('epoch')\n",
    "plt.ylabel('Accuracy')\n",
    "plt.show()"
   ]
  },
  {
   "cell_type": "code",
   "execution_count": null,
   "metadata": {},
   "outputs": [],
   "source": []
  }
 ],
 "metadata": {
  "interpreter": {
   "hash": "c6e4e9f98eb68ad3b7c296f83d20e6de614cb42e90992a65aa266555a3137d0d"
  },
  "kernelspec": {
   "display_name": "Python 3.9.10",
   "language": "python",
   "name": "python3"
  },
  "language_info": {
   "codemirror_mode": {
    "name": "ipython",
    "version": 3
   },
   "file_extension": ".py",
   "mimetype": "text/x-python",
   "name": "python",
   "nbconvert_exporter": "python",
   "pygments_lexer": "ipython3",
   "version": "3.9.10"
  },
  "orig_nbformat": 4
 },
 "nbformat": 4,
 "nbformat_minor": 2
}
