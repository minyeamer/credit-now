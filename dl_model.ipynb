{
 "cells": [
  {
   "cell_type": "code",
   "execution_count": 1,
   "metadata": {},
   "outputs": [],
   "source": [
    "import tensorflow as tf\n",
    "from tensorflow.keras import datasets, utils\n",
    "from tensorflow.keras import models, layers, activations, initializers, losses, optimizers, metrics\n",
    "\n",
    "import credit_data\n",
    "\n",
    "import os\n",
    "os.environ['TF_CPP_MIN_LOG_LEVEL'] = '2'"
   ]
  },
  {
   "cell_type": "code",
   "execution_count": 2,
   "metadata": {},
   "outputs": [
    {
     "name": "stdout",
     "output_type": "stream",
     "text": [
      "(15906, 67) (6818, 67) (15906, 3) (6818, 3)\n"
     ]
    }
   ],
   "source": [
    "train_data, test_data, train_label, test_label = credit_data.load_data()\n",
    "\n",
    "train_data = train_data.todense()\n",
    "test_data = test_data.todense()\n",
    "train_label = utils.to_categorical(train_label)\n",
    "test_label = utils.to_categorical(test_label)\n",
    "\n",
    "print(train_data.shape, test_data.shape, train_label.shape, test_label.shape)"
   ]
  },
  {
   "cell_type": "code",
   "execution_count": 3,
   "metadata": {},
   "outputs": [
    {
     "name": "stdout",
     "output_type": "stream",
     "text": [
      "Metal device set to: Apple M1\n",
      "\n",
      "systemMemory: 8.00 GB\n",
      "maxCacheSize: 2.67 GB\n",
      "\n"
     ]
    }
   ],
   "source": [
    "model = models.Sequential()\n",
    "\n",
    "model.add(layers.Dense(input_dim=67, units=256, activation=None, kernel_initializer=initializers.he_uniform()))\n",
    "model.add(layers.Activation('elu'))\n",
    "\n",
    "model.add(layers.Dense(units=512, activation=None, kernel_initializer=initializers.he_uniform())) \n",
    "model.add(layers.Activation('elu')) \n",
    "\n",
    "model.add(layers.Dense(units=512, activation=None, kernel_initializer=initializers.he_uniform())) \n",
    "model.add(layers.Activation('elu'))\n",
    "\n",
    "model.add(layers.Dense(units=256, activation=None, kernel_initializer=initializers.he_uniform())) \n",
    "model.add(layers.Activation('elu')) \n",
    "model.add(layers.Dropout(rate=0.5))\n",
    "\n",
    "model.add(layers.Dense(units=3, activation='softmax'))"
   ]
  },
  {
   "cell_type": "code",
   "execution_count": 4,
   "metadata": {},
   "outputs": [],
   "source": [
    "model.compile(optimizer=optimizers.Adam(),\n",
    "            loss=losses.categorical_crossentropy, \n",
    "            metrics=[metrics.categorical_accuracy])"
   ]
  },
  {
   "cell_type": "code",
   "execution_count": 5,
   "metadata": {},
   "outputs": [
    {
     "name": "stdout",
     "output_type": "stream",
     "text": [
      "Epoch 1/10\n",
      "112/112 [==============================] - 3s 27ms/step - loss: 1.0975 - categorical_accuracy: 0.5816 - val_loss: 0.8916 - val_categorical_accuracy: 0.6517\n",
      "Epoch 2/10\n",
      "112/112 [==============================] - 3s 26ms/step - loss: 0.9114 - categorical_accuracy: 0.6378 - val_loss: 0.8846 - val_categorical_accuracy: 0.6490\n",
      "Epoch 3/10\n",
      "112/112 [==============================] - 2s 21ms/step - loss: 0.8787 - categorical_accuracy: 0.6589 - val_loss: 0.8800 - val_categorical_accuracy: 0.6503\n",
      "Epoch 4/10\n",
      "112/112 [==============================] - 2s 21ms/step - loss: 0.8563 - categorical_accuracy: 0.6659 - val_loss: 0.8590 - val_categorical_accuracy: 0.6609\n",
      "Epoch 5/10\n",
      "112/112 [==============================] - 2s 22ms/step - loss: 0.8434 - categorical_accuracy: 0.6744 - val_loss: 0.8816 - val_categorical_accuracy: 0.6653\n",
      "Epoch 6/10\n",
      "112/112 [==============================] - 3s 27ms/step - loss: 0.8330 - categorical_accuracy: 0.6787 - val_loss: 0.8597 - val_categorical_accuracy: 0.6649\n",
      "Epoch 7/10\n",
      "112/112 [==============================] - 3s 24ms/step - loss: 0.8177 - categorical_accuracy: 0.6839 - val_loss: 0.8740 - val_categorical_accuracy: 0.6676\n",
      "Epoch 8/10\n",
      "112/112 [==============================] - 3s 24ms/step - loss: 0.8152 - categorical_accuracy: 0.6844 - val_loss: 0.9067 - val_categorical_accuracy: 0.6702\n",
      "Epoch 9/10\n",
      "112/112 [==============================] - 3s 26ms/step - loss: 0.8140 - categorical_accuracy: 0.6841 - val_loss: 0.9247 - val_categorical_accuracy: 0.6471\n",
      "Epoch 10/10\n",
      "112/112 [==============================] - 3s 25ms/step - loss: 0.8071 - categorical_accuracy: 0.6874 - val_loss: 0.8532 - val_categorical_accuracy: 0.6666\n"
     ]
    }
   ],
   "source": [
    "history = model.fit(train_data, train_label, batch_size=100, epochs=10, validation_split=0.3)"
   ]
  },
  {
   "cell_type": "code",
   "execution_count": 6,
   "metadata": {},
   "outputs": [
    {
     "name": "stdout",
     "output_type": "stream",
     "text": [
      "214/214 [==============================] - 7s 31ms/step - loss: 0.8290 - categorical_accuracy: 0.6781\n",
      "loss (cross-entropy) : 0.8289667367935181\n",
      "test accuracy : 0.6780581474304199\n"
     ]
    }
   ],
   "source": [
    "result = model.evaluate(test_data, test_label)\n",
    "\n",
    "print('loss (cross-entropy) :', result[0])\n",
    "print('test accuracy :', result[1])"
   ]
  },
  {
   "cell_type": "code",
   "execution_count": 7,
   "metadata": {},
   "outputs": [
    {
     "data": {
      "image/png": "[encoded data removed]",
      "text/plain": [
       "<PIL.Image.Image image mode=RGBA size=470x63>"
      ]
     },
     "execution_count": 7,
     "metadata": {},
     "output_type": "execute_result"
    }
   ],
   "source": [
    "import visualkeras\n",
    "\n",
    "visualkeras.layered_view(model, legend=True)"
   ]
  },
  {
   "cell_type": "code",
   "execution_count": null,
   "metadata": {},
   "outputs": [],
   "source": []
  }
 ],
 "metadata": {
  "interpreter": {
   "hash": "c6e4e9f98eb68ad3b7c296f83d20e6de614cb42e90992a65aa266555a3137d0d"
  },
  "kernelspec": {
   "display_name": "Python 3.9.10",
   "language": "python",
   "name": "python3"
  },
  "language_info": {
   "codemirror_mode": {
    "name": "ipython",
    "version": 3
   },
   "file_extension": ".py",
   "mimetype": "text/x-python",
   "name": "python",
   "nbconvert_exporter": "python",
   "pygments_lexer": "ipython3",
   "version": "3.9.10"
  },
  "orig_nbformat": 4
 },
 "nbformat": 4,
 "nbformat_minor": 2
}
